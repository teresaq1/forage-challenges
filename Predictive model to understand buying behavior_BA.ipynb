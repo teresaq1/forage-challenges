{
 "cells": [
  {
   "cell_type": "markdown",
   "metadata": {},
   "source": [
    "# Task 2\n",
    "\n",
    "---\n",
    "\n",
    "## Predictive modeling of customer bookings\n",
    "\n",
    "This Jupyter notebook includes some code to get you started with this predictive modeling task. We will use various packages for data manipulation, feature engineering and machine learning.\n",
    "\n",
    "### Exploratory data analysis\n",
    "\n",
    "First, we must explore the data in order to better understand what we have and the statistical properties of the dataset."
   ]
  },
  {
   "cell_type": "code",
   "execution_count": 18,
   "metadata": {},
   "outputs": [],
   "source": [
    "import pandas as pd\n",
    "import numpy as np\n",
    "import matplotlib.pyplot as plt\n",
    "import math\n",
    "from time import time\n",
    "from scipy.stats import randint as sp_randint\n",
    "\n",
    "from sklearn.model_selection import train_test_split\n",
    "from sklearn.preprocessing import LabelEncoder\n",
    "from sklearn.tree import DecisionTreeClassifier\n",
    "from sklearn.ensemble import RandomForestClassifier\n",
    "from sklearn.metrics import mean_squared_error, r2_score, accuracy_score\n",
    "from sklearn.metrics import classification_report\n",
    "from sklearn.metrics import confusion_matrix\n",
    "\n",
    "from imblearn.under_sampling import RandomUnderSampler\n",
    "from imblearn.over_sampling import RandomOverSampler"
   ]
  },
  {
   "cell_type": "code",
   "execution_count": 2,
   "metadata": {},
   "outputs": [
    {
     "data": {
      "text/html": [
       "<div>\n",
       "<style scoped>\n",
       "    .dataframe tbody tr th:only-of-type {\n",
       "        vertical-align: middle;\n",
       "    }\n",
       "\n",
       "    .dataframe tbody tr th {\n",
       "        vertical-align: top;\n",
       "    }\n",
       "\n",
       "    .dataframe thead th {\n",
       "        text-align: right;\n",
       "    }\n",
       "</style>\n",
       "<table border=\"1\" class=\"dataframe\">\n",
       "  <thead>\n",
       "    <tr style=\"text-align: right;\">\n",
       "      <th></th>\n",
       "      <th>num_passengers</th>\n",
       "      <th>sales_channel</th>\n",
       "      <th>trip_type</th>\n",
       "      <th>purchase_lead</th>\n",
       "      <th>length_of_stay</th>\n",
       "      <th>flight_hour</th>\n",
       "      <th>flight_day</th>\n",
       "      <th>route</th>\n",
       "      <th>booking_origin</th>\n",
       "      <th>wants_extra_baggage</th>\n",
       "      <th>wants_preferred_seat</th>\n",
       "      <th>wants_in_flight_meals</th>\n",
       "      <th>flight_duration</th>\n",
       "      <th>booking_complete</th>\n",
       "    </tr>\n",
       "  </thead>\n",
       "  <tbody>\n",
       "    <tr>\n",
       "      <th>0</th>\n",
       "      <td>2</td>\n",
       "      <td>Internet</td>\n",
       "      <td>RoundTrip</td>\n",
       "      <td>262</td>\n",
       "      <td>19</td>\n",
       "      <td>7</td>\n",
       "      <td>Sat</td>\n",
       "      <td>AKLDEL</td>\n",
       "      <td>New Zealand</td>\n",
       "      <td>1</td>\n",
       "      <td>0</td>\n",
       "      <td>0</td>\n",
       "      <td>5.52</td>\n",
       "      <td>0</td>\n",
       "    </tr>\n",
       "    <tr>\n",
       "      <th>1</th>\n",
       "      <td>1</td>\n",
       "      <td>Internet</td>\n",
       "      <td>RoundTrip</td>\n",
       "      <td>112</td>\n",
       "      <td>20</td>\n",
       "      <td>3</td>\n",
       "      <td>Sat</td>\n",
       "      <td>AKLDEL</td>\n",
       "      <td>New Zealand</td>\n",
       "      <td>0</td>\n",
       "      <td>0</td>\n",
       "      <td>0</td>\n",
       "      <td>5.52</td>\n",
       "      <td>0</td>\n",
       "    </tr>\n",
       "    <tr>\n",
       "      <th>2</th>\n",
       "      <td>2</td>\n",
       "      <td>Internet</td>\n",
       "      <td>RoundTrip</td>\n",
       "      <td>243</td>\n",
       "      <td>22</td>\n",
       "      <td>17</td>\n",
       "      <td>Wed</td>\n",
       "      <td>AKLDEL</td>\n",
       "      <td>India</td>\n",
       "      <td>1</td>\n",
       "      <td>1</td>\n",
       "      <td>0</td>\n",
       "      <td>5.52</td>\n",
       "      <td>0</td>\n",
       "    </tr>\n",
       "    <tr>\n",
       "      <th>3</th>\n",
       "      <td>1</td>\n",
       "      <td>Internet</td>\n",
       "      <td>RoundTrip</td>\n",
       "      <td>96</td>\n",
       "      <td>31</td>\n",
       "      <td>4</td>\n",
       "      <td>Sat</td>\n",
       "      <td>AKLDEL</td>\n",
       "      <td>New Zealand</td>\n",
       "      <td>0</td>\n",
       "      <td>0</td>\n",
       "      <td>1</td>\n",
       "      <td>5.52</td>\n",
       "      <td>0</td>\n",
       "    </tr>\n",
       "    <tr>\n",
       "      <th>4</th>\n",
       "      <td>2</td>\n",
       "      <td>Internet</td>\n",
       "      <td>RoundTrip</td>\n",
       "      <td>68</td>\n",
       "      <td>22</td>\n",
       "      <td>15</td>\n",
       "      <td>Wed</td>\n",
       "      <td>AKLDEL</td>\n",
       "      <td>India</td>\n",
       "      <td>1</td>\n",
       "      <td>0</td>\n",
       "      <td>1</td>\n",
       "      <td>5.52</td>\n",
       "      <td>0</td>\n",
       "    </tr>\n",
       "  </tbody>\n",
       "</table>\n",
       "</div>"
      ],
      "text/plain": [
       "   num_passengers sales_channel  trip_type  purchase_lead  length_of_stay  \\\n",
       "0               2      Internet  RoundTrip            262              19   \n",
       "1               1      Internet  RoundTrip            112              20   \n",
       "2               2      Internet  RoundTrip            243              22   \n",
       "3               1      Internet  RoundTrip             96              31   \n",
       "4               2      Internet  RoundTrip             68              22   \n",
       "\n",
       "   flight_hour flight_day   route booking_origin  wants_extra_baggage  \\\n",
       "0            7        Sat  AKLDEL    New Zealand                    1   \n",
       "1            3        Sat  AKLDEL    New Zealand                    0   \n",
       "2           17        Wed  AKLDEL          India                    1   \n",
       "3            4        Sat  AKLDEL    New Zealand                    0   \n",
       "4           15        Wed  AKLDEL          India                    1   \n",
       "\n",
       "   wants_preferred_seat  wants_in_flight_meals  flight_duration  \\\n",
       "0                     0                      0             5.52   \n",
       "1                     0                      0             5.52   \n",
       "2                     1                      0             5.52   \n",
       "3                     0                      1             5.52   \n",
       "4                     0                      1             5.52   \n",
       "\n",
       "   booking_complete  \n",
       "0                 0  \n",
       "1                 0  \n",
       "2                 0  \n",
       "3                 0  \n",
       "4                 0  "
      ]
     },
     "execution_count": 2,
     "metadata": {},
     "output_type": "execute_result"
    }
   ],
   "source": [
    "df = pd.read_csv(\"customer_booking.csv\", encoding=\"ISO-8859-1\")\n",
    "df.head()"
   ]
  },
  {
   "cell_type": "markdown",
   "metadata": {},
   "source": [
    "The `.head()` method allows us to view the first 5 rows in the dataset, this is useful for visual inspection of our columns"
   ]
  },
  {
   "cell_type": "code",
   "execution_count": 16,
   "metadata": {},
   "outputs": [
    {
     "name": "stdout",
     "output_type": "stream",
     "text": [
      "<class 'pandas.core.frame.DataFrame'>\n",
      "RangeIndex: 50000 entries, 0 to 49999\n",
      "Data columns (total 14 columns):\n",
      " #   Column                 Non-Null Count  Dtype  \n",
      "---  ------                 --------------  -----  \n",
      " 0   num_passengers         50000 non-null  int64  \n",
      " 1   sales_channel          50000 non-null  object \n",
      " 2   trip_type              50000 non-null  object \n",
      " 3   purchase_lead          50000 non-null  int64  \n",
      " 4   length_of_stay         50000 non-null  int64  \n",
      " 5   flight_hour            50000 non-null  int64  \n",
      " 6   flight_day             50000 non-null  int64  \n",
      " 7   route                  50000 non-null  object \n",
      " 8   booking_origin         50000 non-null  object \n",
      " 9   wants_extra_baggage    50000 non-null  int64  \n",
      " 10  wants_preferred_seat   50000 non-null  int64  \n",
      " 11  wants_in_flight_meals  50000 non-null  int64  \n",
      " 12  flight_duration        50000 non-null  float64\n",
      " 13  booking_complete       50000 non-null  int64  \n",
      "dtypes: float64(1), int64(9), object(4)\n",
      "memory usage: 5.3+ MB\n"
     ]
    }
   ],
   "source": [
    "df.info()"
   ]
  },
  {
   "cell_type": "markdown",
   "metadata": {},
   "source": [
    "The `.info()` method gives us a data description, telling us the names of the columns, their data types and how many null values we have. Fortunately, we have no null values. It looks like some of these columns should be converted into different data types, e.g. flight_day.\n",
    "\n",
    "To provide more context, below is a more detailed data description, explaining exactly what each column means:\n",
    "\n",
    "- `num_passengers` = number of passengers travelling\n",
    "- `sales_channel` = sales channel booking was made on\n",
    "- `trip_type` = trip Type (Round Trip, One Way, Circle Trip)\n",
    "- `purchase_lead` = number of days between travel date and booking date\n",
    "- `length_of_stay` = number of days spent at destination\n",
    "- `flight_hour` = hour of flight departure\n",
    "- `flight_day` = day of week of flight departure\n",
    "- `route` = origin -> destination flight route\n",
    "- `booking_origin` = country from where booking was made\n",
    "- `wants_extra_baggage` = if the customer wanted extra baggage in the booking\n",
    "- `wants_preferred_seat` = if the customer wanted a preferred seat in the booking\n",
    "- `wants_in_flight_meals` = if the customer wanted in-flight meals in the booking\n",
    "- `flight_duration` = total duration of flight (in hours)\n",
    "- `booking_complete` = flag indicating if the customer completed the booking\n",
    "\n",
    "Before we compute any statistics on the data, lets do any necessary data conversion"
   ]
  },
  {
   "cell_type": "code",
   "execution_count": 4,
   "metadata": {},
   "outputs": [
    {
     "data": {
      "text/plain": [
       "array(['Sat', 'Wed', 'Thu', 'Mon', 'Sun', 'Tue', 'Fri'], dtype=object)"
      ]
     },
     "execution_count": 4,
     "metadata": {},
     "output_type": "execute_result"
    }
   ],
   "source": [
    "df[\"flight_day\"].unique()"
   ]
  },
  {
   "cell_type": "code",
   "execution_count": 4,
   "metadata": {},
   "outputs": [],
   "source": [
    "mapping = {\n",
    "    \"Mon\": 1,\n",
    "    \"Tue\": 2,\n",
    "    \"Wed\": 3,\n",
    "    \"Thu\": 4,\n",
    "    \"Fri\": 5,\n",
    "    \"Sat\": 6,\n",
    "    \"Sun\": 7,\n",
    "}\n",
    "\n",
    "df[\"flight_day\"] = df[\"flight_day\"].map(mapping)"
   ]
  },
  {
   "cell_type": "code",
   "execution_count": 5,
   "metadata": {},
   "outputs": [
    {
     "data": {
      "text/plain": [
       "array([6, 3, 4, 1, 7, 2, 5], dtype=int64)"
      ]
     },
     "execution_count": 5,
     "metadata": {},
     "output_type": "execute_result"
    }
   ],
   "source": [
    "df[\"flight_day\"].unique()"
   ]
  },
  {
   "cell_type": "code",
   "execution_count": 6,
   "metadata": {},
   "outputs": [
    {
     "data": {
      "text/html": [
       "<div>\n",
       "<style scoped>\n",
       "    .dataframe tbody tr th:only-of-type {\n",
       "        vertical-align: middle;\n",
       "    }\n",
       "\n",
       "    .dataframe tbody tr th {\n",
       "        vertical-align: top;\n",
       "    }\n",
       "\n",
       "    .dataframe thead th {\n",
       "        text-align: right;\n",
       "    }\n",
       "</style>\n",
       "<table border=\"1\" class=\"dataframe\">\n",
       "  <thead>\n",
       "    <tr style=\"text-align: right;\">\n",
       "      <th></th>\n",
       "      <th>num_passengers</th>\n",
       "      <th>purchase_lead</th>\n",
       "      <th>length_of_stay</th>\n",
       "      <th>flight_hour</th>\n",
       "      <th>flight_day</th>\n",
       "      <th>wants_extra_baggage</th>\n",
       "      <th>wants_preferred_seat</th>\n",
       "      <th>wants_in_flight_meals</th>\n",
       "      <th>flight_duration</th>\n",
       "      <th>booking_complete</th>\n",
       "    </tr>\n",
       "  </thead>\n",
       "  <tbody>\n",
       "    <tr>\n",
       "      <th>count</th>\n",
       "      <td>50000.000000</td>\n",
       "      <td>50000.000000</td>\n",
       "      <td>50000.00000</td>\n",
       "      <td>50000.00000</td>\n",
       "      <td>50000.000000</td>\n",
       "      <td>50000.000000</td>\n",
       "      <td>50000.000000</td>\n",
       "      <td>50000.000000</td>\n",
       "      <td>50000.000000</td>\n",
       "      <td>50000.000000</td>\n",
       "    </tr>\n",
       "    <tr>\n",
       "      <th>mean</th>\n",
       "      <td>1.591240</td>\n",
       "      <td>84.940480</td>\n",
       "      <td>23.04456</td>\n",
       "      <td>9.06634</td>\n",
       "      <td>3.814420</td>\n",
       "      <td>0.668780</td>\n",
       "      <td>0.296960</td>\n",
       "      <td>0.427140</td>\n",
       "      <td>7.277561</td>\n",
       "      <td>0.149560</td>\n",
       "    </tr>\n",
       "    <tr>\n",
       "      <th>std</th>\n",
       "      <td>1.020165</td>\n",
       "      <td>90.451378</td>\n",
       "      <td>33.88767</td>\n",
       "      <td>5.41266</td>\n",
       "      <td>1.992792</td>\n",
       "      <td>0.470657</td>\n",
       "      <td>0.456923</td>\n",
       "      <td>0.494668</td>\n",
       "      <td>1.496863</td>\n",
       "      <td>0.356643</td>\n",
       "    </tr>\n",
       "    <tr>\n",
       "      <th>min</th>\n",
       "      <td>1.000000</td>\n",
       "      <td>0.000000</td>\n",
       "      <td>0.00000</td>\n",
       "      <td>0.00000</td>\n",
       "      <td>1.000000</td>\n",
       "      <td>0.000000</td>\n",
       "      <td>0.000000</td>\n",
       "      <td>0.000000</td>\n",
       "      <td>4.670000</td>\n",
       "      <td>0.000000</td>\n",
       "    </tr>\n",
       "    <tr>\n",
       "      <th>25%</th>\n",
       "      <td>1.000000</td>\n",
       "      <td>21.000000</td>\n",
       "      <td>5.00000</td>\n",
       "      <td>5.00000</td>\n",
       "      <td>2.000000</td>\n",
       "      <td>0.000000</td>\n",
       "      <td>0.000000</td>\n",
       "      <td>0.000000</td>\n",
       "      <td>5.620000</td>\n",
       "      <td>0.000000</td>\n",
       "    </tr>\n",
       "    <tr>\n",
       "      <th>50%</th>\n",
       "      <td>1.000000</td>\n",
       "      <td>51.000000</td>\n",
       "      <td>17.00000</td>\n",
       "      <td>9.00000</td>\n",
       "      <td>4.000000</td>\n",
       "      <td>1.000000</td>\n",
       "      <td>0.000000</td>\n",
       "      <td>0.000000</td>\n",
       "      <td>7.570000</td>\n",
       "      <td>0.000000</td>\n",
       "    </tr>\n",
       "    <tr>\n",
       "      <th>75%</th>\n",
       "      <td>2.000000</td>\n",
       "      <td>115.000000</td>\n",
       "      <td>28.00000</td>\n",
       "      <td>13.00000</td>\n",
       "      <td>5.000000</td>\n",
       "      <td>1.000000</td>\n",
       "      <td>1.000000</td>\n",
       "      <td>1.000000</td>\n",
       "      <td>8.830000</td>\n",
       "      <td>0.000000</td>\n",
       "    </tr>\n",
       "    <tr>\n",
       "      <th>max</th>\n",
       "      <td>9.000000</td>\n",
       "      <td>867.000000</td>\n",
       "      <td>778.00000</td>\n",
       "      <td>23.00000</td>\n",
       "      <td>7.000000</td>\n",
       "      <td>1.000000</td>\n",
       "      <td>1.000000</td>\n",
       "      <td>1.000000</td>\n",
       "      <td>9.500000</td>\n",
       "      <td>1.000000</td>\n",
       "    </tr>\n",
       "  </tbody>\n",
       "</table>\n",
       "</div>"
      ],
      "text/plain": [
       "       num_passengers  purchase_lead  length_of_stay  flight_hour  \\\n",
       "count    50000.000000   50000.000000     50000.00000  50000.00000   \n",
       "mean         1.591240      84.940480        23.04456      9.06634   \n",
       "std          1.020165      90.451378        33.88767      5.41266   \n",
       "min          1.000000       0.000000         0.00000      0.00000   \n",
       "25%          1.000000      21.000000         5.00000      5.00000   \n",
       "50%          1.000000      51.000000        17.00000      9.00000   \n",
       "75%          2.000000     115.000000        28.00000     13.00000   \n",
       "max          9.000000     867.000000       778.00000     23.00000   \n",
       "\n",
       "         flight_day  wants_extra_baggage  wants_preferred_seat  \\\n",
       "count  50000.000000         50000.000000          50000.000000   \n",
       "mean       3.814420             0.668780              0.296960   \n",
       "std        1.992792             0.470657              0.456923   \n",
       "min        1.000000             0.000000              0.000000   \n",
       "25%        2.000000             0.000000              0.000000   \n",
       "50%        4.000000             1.000000              0.000000   \n",
       "75%        5.000000             1.000000              1.000000   \n",
       "max        7.000000             1.000000              1.000000   \n",
       "\n",
       "       wants_in_flight_meals  flight_duration  booking_complete  \n",
       "count           50000.000000     50000.000000      50000.000000  \n",
       "mean                0.427140         7.277561          0.149560  \n",
       "std                 0.494668         1.496863          0.356643  \n",
       "min                 0.000000         4.670000          0.000000  \n",
       "25%                 0.000000         5.620000          0.000000  \n",
       "50%                 0.000000         7.570000          0.000000  \n",
       "75%                 1.000000         8.830000          0.000000  \n",
       "max                 1.000000         9.500000          1.000000  "
      ]
     },
     "execution_count": 6,
     "metadata": {},
     "output_type": "execute_result"
    }
   ],
   "source": [
    "df.describe()"
   ]
  },
  {
   "cell_type": "markdown",
   "metadata": {},
   "source": [
    "The `.describe()` method gives us a summary of descriptive statistics over the entire dataset (only works for numeric columns). This gives us a quick overview of a few things such as the mean, min, max and overall distribution of each column.\n",
    "\n",
    "From this point, you should continue exploring the dataset with some visualisations and other metrics that you think may be useful. Then, you should prepare your dataset for predictive modelling. Finally, you should train your machine learning model, evaluate it with performance metrics and output visualisations for the contributing variables. All of this analysis should be summarised in your single slide."
   ]
  },
  {
   "cell_type": "code",
   "execution_count": 7,
   "metadata": {},
   "outputs": [
    {
     "data": {
      "text/plain": [
       "array(['Internet', 'Mobile'], dtype=object)"
      ]
     },
     "execution_count": 7,
     "metadata": {},
     "output_type": "execute_result"
    }
   ],
   "source": [
    "df['sales_channel'].unique()"
   ]
  },
  {
   "cell_type": "code",
   "execution_count": 12,
   "metadata": {},
   "outputs": [
    {
     "data": {
      "text/plain": [
       "<Axes: xlabel='sales_channel', ylabel='count'>"
      ]
     },
     "execution_count": 12,
     "metadata": {},
     "output_type": "execute_result"
    },
    {
     "data": {
      "image/png": "[encoded data removed]",
      "text/plain": [
       "<Figure size 640x480 with 1 Axes>"
      ]
     },
     "metadata": {},
     "output_type": "display_data"
    }
   ],
   "source": [
    "import seaborn as sns\n",
    "sns.set(style=\"darkgrid\")\n",
    "sns.countplot(df, x=\"sales_channel\")"
   ]
  },
  {
   "cell_type": "code",
   "execution_count": 13,
   "metadata": {},
   "outputs": [
    {
     "data": {
      "text/plain": [
       "<Axes: xlabel='flight_hour', ylabel='count'>"
      ]
     },
     "execution_count": 13,
     "metadata": {},
     "output_type": "execute_result"
    },
    {
     "data": {
      "image/png": "[encoded data removed]",
      "text/plain": [
       "<Figure size 640x480 with 1 Axes>"
      ]
     },
     "metadata": {},
     "output_type": "display_data"
    }
   ],
   "source": [
    "sns.countplot(df, x=\"flight_hour\")"
   ]
  },
  {
   "cell_type": "code",
   "execution_count": 17,
   "metadata": {},
   "outputs": [
    {
     "data": {
      "text/plain": [
       "<Axes: xlabel='wants_extra_baggage', ylabel='count'>"
      ]
     },
     "execution_count": 17,
     "metadata": {},
     "output_type": "execute_result"
    },
    {
     "data": {
      "image/png": "[encoded data removed]",
      "text/plain": [
       "<Figure size 640x480 with 1 Axes>"
      ]
     },
     "metadata": {},
     "output_type": "display_data"
    }
   ],
   "source": [
    "sns.countplot(df, x=\"wants_extra_baggage\")"
   ]
  },
  {
   "cell_type": "code",
   "execution_count": 22,
   "metadata": {},
   "outputs": [
    {
     "data": {
      "text/plain": [
       "1      685\n",
       "2      670\n",
       "6      653\n",
       "7      638\n",
       "5      615\n",
       "      ... \n",
       "641      1\n",
       "471      1\n",
       "614      1\n",
       "463      1\n",
       "867      1\n",
       "Name: purchase_lead, Length: 470, dtype: int64"
      ]
     },
     "execution_count": 22,
     "metadata": {},
     "output_type": "execute_result"
    }
   ],
   "source": [
    "df['purchase_lead'].value_counts()"
   ]
  },
  {
   "cell_type": "code",
   "execution_count": 21,
   "metadata": {},
   "outputs": [
    {
     "data": {
      "text/plain": [
       "<Axes: xlabel='purchase_lead', ylabel='count'>"
      ]
     },
     "execution_count": 21,
     "metadata": {},
     "output_type": "execute_result"
    },
    {
     "data": {
      "image/png": "[encoded data removed]",
      "text/plain": [
       "<Figure size 640x480 with 1 Axes>"
      ]
     },
     "metadata": {},
     "output_type": "display_data"
    }
   ],
   "source": [
    "sns.countplot(df, x=\"purchase_lead\")"
   ]
  },
  {
   "cell_type": "code",
   "execution_count": 19,
   "metadata": {},
   "outputs": [],
   "source": [
    "def run_model(data, output_feature, exclude_features, model_type, imbal_type=None):\n",
    "    try:\n",
    "        \n",
    "        print(data[output_feature].value_counts())\n",
    "        \n",
    "        # get input features\n",
    "        input_features = [item for item in data.columns if item not in [output_feature] + exclude_features]\n",
    "        \n",
    "        # split the datasets\n",
    "        df_train, df_test = train_test_split(data[[output_feature]+input_features].copy(), test_size=0.2, random_state=8001)\n",
    "         \n",
    "        #\n",
    "        # create model\n",
    "        #        \n",
    "        if model_type == 'dtc':\n",
    "            model = DecisionTreeClassifier()\n",
    "        elif model_type == 'rfc':\n",
    "            model = RandomForestClassifier(n_estimators=100, max_depth=4, max_features=4)\n",
    "        else:\n",
    "            raise Exception('invalid model type')\n",
    "         \n",
    "        #\n",
    "        # imbalance\n",
    "        #\n",
    "        if imbal_type == 'under':            \n",
    "            rus = RandomUnderSampler(random_state=8001)\n",
    "            X, y = rus.fit_sample(X=df_train[input_features], y=df_train[output_feature].ravel())\n",
    "        elif imbal_type == 'over':\n",
    "            ros = RandomOverSampler(random_state=8001)\n",
    "            X, y = ros.fit_sample(X=df_train[input_features], y=df_train[output_feature].ravel())\n",
    "        else:\n",
    "            X = df_train[input_features]\n",
    "            y = df_train[output_feature].ravel()\n",
    "            \n",
    "        print(np.unique(y, return_counts=True))\n",
    "        \n",
    "        # train the model\n",
    "        model.fit(X=X, y=y)\n",
    "        \n",
    "        # make predictions\n",
    "        y_true = df_test[output_feature].ravel()\n",
    "        y_pred = model.predict(X=df_test[input_features])\n",
    "\n",
    "        # model accuracy\n",
    "        acc = accuracy_score(y_pred=y_pred, y_true=y_true)\n",
    "\n",
    "        print(f'Model: {model_type.upper()} Accuracy for {output_feature} = {acc:.2f}')\n",
    "        \n",
    "        return (input_features, model, y_true, y_pred)\n",
    "    \n",
    "    except Exception as ex:\n",
    "        print(ex)"
   ]
  },
  {
   "cell_type": "code",
   "execution_count": 37,
   "metadata": {},
   "outputs": [
    {
     "name": "stdout",
     "output_type": "stream",
     "text": [
      "1    31352\n",
      "2    12804\n",
      "3     2941\n",
      "4     1784\n",
      "5      561\n",
      "6      289\n",
      "7      114\n",
      "8       89\n",
      "9       66\n",
      "Name: num_passengers, dtype: int64\n",
      "(array([1, 2, 3, 4, 5, 6, 7, 8, 9], dtype=int64), array([25118, 10193,  2375,  1428,   439,   228,    92,    73,    54],\n",
      "      dtype=int64))\n",
      "Model: RFC Accuracy for num_passengers = 0.64\n"
     ]
    }
   ],
   "source": [
    "input_features4, model4b, y4b_true, y4b_pred = run_model(data=df, output_feature='num_passengers', exclude_features=['booking_origin','sales_channel','trip_type','flight_day','route'], model_type='rfc', imbal_type=None)"
   ]
  },
  {
   "cell_type": "code",
   "execution_count": 38,
   "metadata": {},
   "outputs": [
    {
     "data": {
      "text/html": [
       "<style>#sk-container-id-2 {color: black;background-color: white;}#sk-container-id-2 pre{padding: 0;}#sk-container-id-2 div.sk-toggleable {background-color: white;}#sk-container-id-2 label.sk-toggleable__label {cursor: pointer;display: block;width: 100%;margin-bottom: 0;padding: 0.3em;box-sizing: border-box;text-align: center;}#sk-container-id-2 label.sk-toggleable__label-arrow:before {content: \"▸\";float: left;margin-right: 0.25em;color: #696969;}#sk-container-id-2 label.sk-toggleable__label-arrow:hover:before {color: black;}#sk-container-id-2 div.sk-estimator:hover label.sk-toggleable__label-arrow:before {color: black;}#sk-container-id-2 div.sk-toggleable__content {max-height: 0;max-width: 0;overflow: hidden;text-align: left;background-color: #f0f8ff;}#sk-container-id-2 div.sk-toggleable__content pre {margin: 0.2em;color: black;border-radius: 0.25em;background-color: #f0f8ff;}#sk-container-id-2 input.sk-toggleable__control:checked~div.sk-toggleable__content {max-height: 200px;max-width: 100%;overflow: auto;}#sk-container-id-2 input.sk-toggleable__control:checked~label.sk-toggleable__label-arrow:before {content: \"▾\";}#sk-container-id-2 div.sk-estimator input.sk-toggleable__control:checked~label.sk-toggleable__label {background-color: #d4ebff;}#sk-container-id-2 div.sk-label input.sk-toggleable__control:checked~label.sk-toggleable__label {background-color: #d4ebff;}#sk-container-id-2 input.sk-hidden--visually {border: 0;clip: rect(1px 1px 1px 1px);clip: rect(1px, 1px, 1px, 1px);height: 1px;margin: -1px;overflow: hidden;padding: 0;position: absolute;width: 1px;}#sk-container-id-2 div.sk-estimator {font-family: monospace;background-color: #f0f8ff;border: 1px dotted black;border-radius: 0.25em;box-sizing: border-box;margin-bottom: 0.5em;}#sk-container-id-2 div.sk-estimator:hover {background-color: #d4ebff;}#sk-container-id-2 div.sk-parallel-item::after {content: \"\";width: 100%;border-bottom: 1px solid gray;flex-grow: 1;}#sk-container-id-2 div.sk-label:hover label.sk-toggleable__label {background-color: #d4ebff;}#sk-container-id-2 div.sk-serial::before {content: \"\";position: absolute;border-left: 1px solid gray;box-sizing: border-box;top: 0;bottom: 0;left: 50%;z-index: 0;}#sk-container-id-2 div.sk-serial {display: flex;flex-direction: column;align-items: center;background-color: white;padding-right: 0.2em;padding-left: 0.2em;position: relative;}#sk-container-id-2 div.sk-item {position: relative;z-index: 1;}#sk-container-id-2 div.sk-parallel {display: flex;align-items: stretch;justify-content: center;background-color: white;position: relative;}#sk-container-id-2 div.sk-item::before, #sk-container-id-2 div.sk-parallel-item::before {content: \"\";position: absolute;border-left: 1px solid gray;box-sizing: border-box;top: 0;bottom: 0;left: 50%;z-index: -1;}#sk-container-id-2 div.sk-parallel-item {display: flex;flex-direction: column;z-index: 1;position: relative;background-color: white;}#sk-container-id-2 div.sk-parallel-item:first-child::after {align-self: flex-end;width: 50%;}#sk-container-id-2 div.sk-parallel-item:last-child::after {align-self: flex-start;width: 50%;}#sk-container-id-2 div.sk-parallel-item:only-child::after {width: 0;}#sk-container-id-2 div.sk-dashed-wrapped {border: 1px dashed gray;margin: 0 0.4em 0.5em 0.4em;box-sizing: border-box;padding-bottom: 0.4em;background-color: white;}#sk-container-id-2 div.sk-label label {font-family: monospace;font-weight: bold;display: inline-block;line-height: 1.2em;}#sk-container-id-2 div.sk-label-container {text-align: center;}#sk-container-id-2 div.sk-container {/* jupyter's `normalize.less` sets `[hidden] { display: none; }` but bootstrap.min.css set `[hidden] { display: none !important; }` so we also need the `!important` here to be able to override the default hidden behavior on the sphinx rendered scikit-learn.org. See: https://github.com/scikit-learn/scikit-learn/issues/21755 */display: inline-block !important;position: relative;}#sk-container-id-2 div.sk-text-repr-fallback {display: none;}</style><div id=\"sk-container-id-2\" class=\"sk-top-container\"><div class=\"sk-text-repr-fallback\"><pre>RandomForestClassifier(max_depth=4, max_features=4)</pre><b>In a Jupyter environment, please rerun this cell to show the HTML representation or trust the notebook. <br />On GitHub, the HTML representation is unable to render, please try loading this page with nbviewer.org.</b></div><div class=\"sk-container\" hidden><div class=\"sk-item\"><div class=\"sk-estimator sk-toggleable\"><input class=\"sk-toggleable__control sk-hidden--visually\" id=\"sk-estimator-id-2\" type=\"checkbox\" checked><label for=\"sk-estimator-id-2\" class=\"sk-toggleable__label sk-toggleable__label-arrow\">RandomForestClassifier</label><div class=\"sk-toggleable__content\"><pre>RandomForestClassifier(max_depth=4, max_features=4)</pre></div></div></div></div></div>"
      ],
      "text/plain": [
       "RandomForestClassifier(max_depth=4, max_features=4)"
      ]
     },
     "execution_count": 38,
     "metadata": {},
     "output_type": "execute_result"
    }
   ],
   "source": [
    "model4b"
   ]
  },
  {
   "cell_type": "code",
   "execution_count": 39,
   "metadata": {},
   "outputs": [
    {
     "data": {
      "text/plain": [
       "array([4.64784630e-01, 2.91354488e-01, 1.65686471e-03, 1.68605606e-01,\n",
       "       1.84589604e-02, 1.86588409e-03, 5.28669719e-02, 4.06595412e-04])"
      ]
     },
     "execution_count": 39,
     "metadata": {},
     "output_type": "execute_result"
    }
   ],
   "source": [
    "model4b.feature_importances_"
   ]
  },
  {
   "cell_type": "code",
   "execution_count": 40,
   "metadata": {},
   "outputs": [
    {
     "data": {
      "text/html": [
       "<div>\n",
       "<style scoped>\n",
       "    .dataframe tbody tr th:only-of-type {\n",
       "        vertical-align: middle;\n",
       "    }\n",
       "\n",
       "    .dataframe tbody tr th {\n",
       "        vertical-align: top;\n",
       "    }\n",
       "\n",
       "    .dataframe thead th {\n",
       "        text-align: right;\n",
       "    }\n",
       "</style>\n",
       "<table border=\"1\" class=\"dataframe\">\n",
       "  <thead>\n",
       "    <tr style=\"text-align: right;\">\n",
       "      <th></th>\n",
       "      <th>feature4</th>\n",
       "      <th>weights</th>\n",
       "    </tr>\n",
       "  </thead>\n",
       "  <tbody>\n",
       "    <tr>\n",
       "      <th>0</th>\n",
       "      <td>purchase_lead</td>\n",
       "      <td>0.464785</td>\n",
       "    </tr>\n",
       "    <tr>\n",
       "      <th>1</th>\n",
       "      <td>length_of_stay</td>\n",
       "      <td>0.291354</td>\n",
       "    </tr>\n",
       "    <tr>\n",
       "      <th>3</th>\n",
       "      <td>wants_extra_baggage</td>\n",
       "      <td>0.168606</td>\n",
       "    </tr>\n",
       "    <tr>\n",
       "      <th>6</th>\n",
       "      <td>flight_duration</td>\n",
       "      <td>0.052867</td>\n",
       "    </tr>\n",
       "    <tr>\n",
       "      <th>4</th>\n",
       "      <td>wants_preferred_seat</td>\n",
       "      <td>0.018459</td>\n",
       "    </tr>\n",
       "    <tr>\n",
       "      <th>5</th>\n",
       "      <td>wants_in_flight_meals</td>\n",
       "      <td>0.001866</td>\n",
       "    </tr>\n",
       "    <tr>\n",
       "      <th>2</th>\n",
       "      <td>flight_hour</td>\n",
       "      <td>0.001657</td>\n",
       "    </tr>\n",
       "    <tr>\n",
       "      <th>7</th>\n",
       "      <td>booking_complete</td>\n",
       "      <td>0.000407</td>\n",
       "    </tr>\n",
       "  </tbody>\n",
       "</table>\n",
       "</div>"
      ],
      "text/plain": [
       "                feature4   weights\n",
       "0          purchase_lead  0.464785\n",
       "1         length_of_stay  0.291354\n",
       "3    wants_extra_baggage  0.168606\n",
       "6        flight_duration  0.052867\n",
       "4   wants_preferred_seat  0.018459\n",
       "5  wants_in_flight_meals  0.001866\n",
       "2            flight_hour  0.001657\n",
       "7       booking_complete  0.000407"
      ]
     },
     "execution_count": 40,
     "metadata": {},
     "output_type": "execute_result"
    }
   ],
   "source": [
    "df_features4 = pd.DataFrame(model4b.feature_importances_.flatten(), input_features4, columns=['weights']).reset_index().rename(columns={'index':'feature4'})\n",
    "df_features4.sort_values(by=['weights'], ascending=False, inplace=True)\n",
    "df_features4"
   ]
  },
  {
   "cell_type": "code",
   "execution_count": 44,
   "metadata": {},
   "outputs": [],
   "source": [
    "from sklearn.tree import export_graphviz\n",
    "from sklearn.model_selection import RandomizedSearchCV, GridSearchCV"
   ]
  },
  {
   "cell_type": "code",
   "execution_count": 34,
   "metadata": {},
   "outputs": [],
   "source": [
    "tree = model4b.estimators_[0]"
   ]
  },
  {
   "cell_type": "code",
   "execution_count": 36,
   "metadata": {},
   "outputs": [
    {
     "name": "stdout",
     "output_type": "stream",
     "text": [
      "digraph Tree {\n",
      "node [shape=box, style=\"rounded\", color=\"black\", fontname=\"helvetica\"] ;\n",
      "edge [fontname=\"helvetica\"] ;\n",
      "0 [label=\"length_of_stay <= 3.5\\ngini = 0.99\\nsamples = 25291\\nvalue = [309, 583, 534, 456, 454, 462, 554, 509, 472, 471\\n512, 441, 499, 490, 415, 449, 423, 407, 490, 432\\n484, 425, 424, 414, 368, 406, 397, 401, 346, 335\\n356, 312, 345, 360, 331, 329, 319, 353, 323, 301\\n316, 275, 376, 272, 315, 281, 302, 329, 269, 280\\n265, 246, 272, 213, 271, 238, 233, 215, 218, 211\\n198, 210, 169, 199, 192, 167, 204, 189, 175, 188\\n206, 178, 175, 179, 206, 164, 115, 191, 175, 177\\n137, 156, 185, 176, 157, 128, 135, 137, 123, 133\\n128, 121, 109, 128, 92, 125, 133, 105, 91, 116, 92\\n115, 112, 76, 90, 124, 126, 110, 118, 98, 103, 103\\n72, 110, 94, 110, 85, 106, 107, 99, 95, 73, 70\\n86, 72, 58, 101, 78, 106, 87, 83, 71, 68, 84, 73\\n82, 49, 77, 63, 68, 58, 33, 50, 78, 56, 55, 50\\n49, 45, 66, 61, 66, 72, 50, 64, 75, 47, 46, 42\\n64, 47, 54, 67, 58, 52, 59, 47, 38, 78, 72, 52\\n53, 46, 59, 74, 66, 35, 47, 55, 53, 49, 43, 32\\n33, 35, 45, 48, 46, 49, 51, 39, 47, 37, 28, 35\\n50, 44, 28, 47, 48, 33, 44, 34, 40, 50, 34, 35\\n37, 36, 35, 36, 34, 34, 44, 32, 48, 49, 37, 42\\n38, 38, 37, 24, 33, 40, 60, 29, 37, 40, 35, 31\\n46, 51, 31, 56, 50, 35, 51, 54, 37, 50, 63, 33\\n42, 33, 51, 28, 26, 36, 47, 37, 33, 25, 22, 28\\n36, 18, 35, 25, 22, 24, 24, 30, 42, 30, 36, 26\\n23, 25, 31, 23, 15, 24, 14, 19, 13, 24, 27, 17\\n18, 22, 27, 33, 18, 25, 15, 15, 24, 32, 11, 21\\n35, 18, 27, 18, 19, 35, 26, 28, 27, 16, 14, 21\\n29, 14, 23, 19, 15, 15, 16, 9, 29, 15, 15, 11\\n21, 31, 22, 15, 13, 18, 27, 15, 31, 20, 19, 11\\n13, 20, 10, 24, 17, 17, 21, 9, 16, 12, 16, 21\\n13, 23, 16, 11, 22, 15, 11, 14, 15, 16, 14, 12\\n9, 20, 14, 11, 12, 7, 9, 9, 16, 19, 12, 14, 11\\n5, 15, 15, 12, 13, 7, 16, 16, 14, 4, 15, 5, 4\\n8, 12, 6, 17, 9, 6, 16, 6, 10, 6, 19, 18, 16\\n9, 9, 4, 6, 11, 15, 8, 11, 9, 7, 16, 11, 14\\n8, 12, 20, 4, 10, 5, 2, 15, 6, 13, 8, 8, 1\\n7, 7, 6, 7, 6, 6, 10, 7, 16, 5, 4, 2, 11, 3\\n8, 3, 1, 0, 1, 1, 5, 6, 0, 2, 1, 0, 3, 7\\n2, 0, 0, 0, 0, 2, 1, 1, 1, 0, 0, 1, 1, 0\\n0, 5, 2, 1, 0, 0, 2, 1, 2, 1]\"] ;\n",
      "1 [label=\"num_passengers <= 1.5\\ngini = 0.99\\nsamples = 2009\\nvalue = [56, 112, 87, 59, 55, 71, 102, 81, 58, 68, 63, 48\\n42, 65, 35, 44, 35, 54, 54, 42, 49, 55, 35, 43\\n36, 37, 37, 32, 25, 45, 35, 26, 14, 30, 28, 30\\n19, 16, 29, 16, 28, 10, 28, 18, 34, 19, 22, 25\\n12, 11, 12, 17, 26, 8, 19, 7, 20, 14, 8, 19\\n18, 11, 11, 13, 7, 10, 8, 13, 17, 17, 8, 3, 11\\n3, 6, 11, 2, 11, 12, 12, 10, 10, 15, 7, 21, 12\\n8, 11, 3, 8, 5, 14, 4, 9, 3, 6, 5, 5, 3, 8\\n5, 6, 2, 6, 4, 2, 2, 3, 7, 8, 3, 2, 2, 0\\n6, 2, 1, 1, 11, 6, 7, 0, 4, 7, 2, 0, 4, 8\\n0, 1, 1, 3, 4, 1, 6, 9, 5, 3, 5, 3, 0, 1\\n3, 2, 12, 1, 3, 0, 1, 7, 0, 1, 4, 2, 1, 1\\n3, 1, 6, 1, 2, 7, 7, 0, 2, 0, 3, 0, 0, 2\\n2, 2, 3, 2, 3, 0, 0, 3, 4, 3, 0, 4, 0, 5\\n1, 2, 3, 2, 0, 0, 1, 6, 2, 3, 1, 3, 1, 5\\n0, 0, 2, 5, 1, 2, 4, 0, 2, 3, 0, 1, 7, 4\\n0, 4, 4, 5, 7, 4, 4, 2, 2, 1, 1, 5, 4, 2\\n1, 0, 1, 5, 3, 0, 1, 3, 0, 5, 6, 0, 2, 1\\n7, 4, 0, 2, 3, 1, 0, 0, 1, 6, 2, 6, 0, 2\\n0, 0, 1, 2, 3, 1, 0, 1, 1, 1, 1, 1, 3, 3\\n3, 2, 0, 1, 2, 0, 1, 0, 1, 1, 0, 0, 0, 1\\n0, 2, 4, 0, 1, 0, 0, 1, 3, 0, 3, 1, 1, 0\\n2, 1, 4, 0, 1, 0, 0, 2, 0, 2, 0, 1, 0, 3\\n0, 0, 0, 2, 0, 3, 1, 0, 0, 0, 0, 0, 0, 2\\n0, 0, 2, 1, 0, 1, 0, 4, 0, 0, 1, 0, 0, 0\\n0, 0, 1, 0, 0, 0, 0, 2, 0, 1, 4, 0, 4, 0\\n0, 0, 2, 0, 1, 0, 1, 0, 0, 3, 3, 0, 0, 0\\n2, 0, 2, 0, 0, 0, 0, 0, 0, 0, 0, 0, 0, 1\\n0, 0, 0, 0, 0, 0, 0, 1, 0, 0, 0, 0, 0, 0\\n1, 0, 0, 2, 0, 1, 1, 0, 0, 0, 1, 0, 0, 0\\n0, 0, 0, 3, 0, 0, 0, 0, 0, 2, 0, 3, 2, 0\\n0, 0, 2, 0, 2, 0, 1, 0, 0, 0, 0, 0, 0, 0\\n1, 0, 0, 2, 0, 0, 0, 0, 0, 0, 0, 0, 0, 0\\n0, 0, 1, 0, 0, 1, 0, 0, 0, 0, 0, 0, 0, 0\\n0, 0, 0, 0]\"] ;\n",
      "0 -> 1 [labeldistance=2.5, labelangle=45, headlabel=\"True\"] ;\n",
      "2 [label=\"flight_duration <= 9.16\\ngini = 0.99\\nsamples = 1410\\nvalue = [43, 94, 76, 55, 40, 56, 81, 70, 46, 51, 46, 40\\n24, 51, 30, 35, 33, 45, 39, 20, 32, 34, 25, 30\\n28, 27, 31, 22, 18, 37, 14, 18, 8, 27, 18, 23\\n13, 11, 20, 14, 20, 8, 20, 14, 19, 10, 16, 18\\n9, 6, 5, 14, 20, 2, 19, 7, 14, 12, 7, 8, 15\\n10, 7, 10, 2, 10, 5, 7, 9, 8, 7, 3, 8, 1, 3\\n8, 1, 6, 12, 9, 7, 5, 10, 2, 8, 4, 5, 4, 2\\n4, 4, 7, 2, 2, 0, 5, 2, 4, 2, 3, 3, 6, 2\\n5, 3, 2, 2, 2, 6, 3, 2, 1, 2, 0, 5, 1, 1\\n1, 3, 4, 4, 0, 1, 3, 0, 0, 4, 7, 0, 1, 0\\n0, 4, 1, 5, 5, 4, 1, 2, 1, 0, 1, 3, 2, 4\\n0, 1, 0, 0, 3, 0, 1, 0, 2, 0, 1, 1, 1, 5\\n1, 2, 6, 2, 0, 1, 0, 3, 0, 0, 2, 1, 2, 3\\n0, 3, 0, 0, 3, 0, 0, 0, 3, 0, 5, 1, 0, 0\\n0, 0, 0, 0, 4, 2, 3, 1, 3, 1, 4, 0, 0, 0\\n2, 1, 2, 0, 0, 1, 2, 0, 0, 2, 4, 0, 4, 2\\n3, 0, 4, 0, 1, 0, 0, 1, 5, 4, 0, 1, 0, 1\\n0, 0, 0, 0, 0, 0, 3, 0, 0, 0, 0, 4, 3, 0\\n1, 3, 1, 0, 0, 1, 5, 1, 6, 0, 0, 0, 0, 0\\n2, 0, 1, 0, 0, 1, 1, 0, 1, 2, 3, 2, 2, 0\\n1, 0, 0, 0, 0, 0, 1, 0, 0, 0, 0, 0, 2, 3\\n0, 1, 0, 0, 1, 3, 0, 2, 0, 0, 0, 2, 0, 2\\n0, 1, 0, 0, 0, 0, 0, 0, 0, 0, 0, 0, 0, 0\\n0, 0, 3, 1, 0, 0, 0, 0, 0, 0, 0, 0, 0, 1\\n1, 0, 0, 0, 4, 0, 0, 1, 0, 0, 0, 0, 0, 0\\n0, 0, 0, 0, 0, 0, 1, 1, 0, 4, 0, 0, 0, 0\\n0, 1, 0, 0, 0, 0, 0, 1, 0, 0, 0, 2, 0, 2\\n0, 0, 0, 0, 0, 0, 0, 0, 0, 0, 0, 0, 0, 0\\n0, 0, 0, 0, 1, 0, 0, 0, 0, 0, 0, 0, 0, 0\\n2, 0, 0, 1, 0, 0, 0, 1, 0, 0, 0, 0, 0, 0\\n0, 0, 0, 0, 0, 0, 2, 0, 3, 2, 0, 0, 0, 2\\n0, 2, 0, 0, 0, 0, 0, 0, 0, 0, 0, 0, 0, 0\\n2, 0, 0, 0, 0, 0, 0, 0, 0, 0, 0, 0, 0, 0\\n0, 0, 0, 0, 0, 0, 0, 0, 0, 0, 0, 0, 0, 0\\n0]\"] ;\n",
      "1 -> 2 ;\n",
      "3 [label=\"wants_preferred_seat <= 0.5\\ngini = 0.99\\nsamples = 1409\\nvalue = [43, 94, 76, 55, 40, 56, 78, 70, 46, 51, 46, 40\\n24, 51, 30, 35, 33, 45, 39, 20, 32, 34, 25, 30\\n28, 27, 31, 22, 18, 37, 14, 18, 8, 27, 18, 23\\n13, 11, 20, 14, 20, 8, 20, 14, 19, 10, 16, 18\\n9, 6, 5, 14, 20, 2, 19, 7, 14, 12, 7, 8, 15\\n10, 7, 10, 2, 10, 5, 7, 9, 8, 7, 3, 8, 1, 3\\n8, 1, 6, 12, 9, 7, 5, 10, 2, 8, 4, 5, 4, 2\\n4, 4, 7, 2, 2, 0, 5, 2, 4, 2, 3, 3, 6, 2\\n5, 3, 2, 2, 2, 6, 3, 2, 1, 2, 0, 5, 1, 1\\n1, 3, 4, 4, 0, 1, 3, 0, 0, 4, 7, 0, 1, 0\\n0, 4, 1, 5, 5, 4, 1, 2, 1, 0, 1, 3, 2, 4\\n0, 1, 0, 0, 3, 0, 1, 0, 2, 0, 1, 1, 1, 5\\n1, 2, 6, 2, 0, 1, 0, 3, 0, 0, 2, 1, 2, 3\\n0, 3, 0, 0, 3, 0, 0, 0, 3, 0, 5, 1, 0, 0\\n0, 0, 0, 0, 4, 2, 3, 1, 3, 1, 4, 0, 0, 0\\n2, 1, 2, 0, 0, 1, 2, 0, 0, 2, 4, 0, 4, 2\\n3, 0, 4, 0, 1, 0, 0, 1, 5, 4, 0, 1, 0, 1\\n0, 0, 0, 0, 0, 0, 3, 0, 0, 0, 0, 4, 3, 0\\n1, 3, 1, 0, 0, 1, 5, 1, 6, 0, 0, 0, 0, 0\\n2, 0, 1, 0, 0, 1, 1, 0, 1, 2, 3, 2, 2, 0\\n1, 0, 0, 0, 0, 0, 1, 0, 0, 0, 0, 0, 2, 3\\n0, 1, 0, 0, 1, 3, 0, 2, 0, 0, 0, 2, 0, 2\\n0, 1, 0, 0, 0, 0, 0, 0, 0, 0, 0, 0, 0, 0\\n0, 0, 3, 1, 0, 0, 0, 0, 0, 0, 0, 0, 0, 1\\n1, 0, 0, 0, 4, 0, 0, 1, 0, 0, 0, 0, 0, 0\\n0, 0, 0, 0, 0, 0, 1, 1, 0, 4, 0, 0, 0, 0\\n0, 1, 0, 0, 0, 0, 0, 1, 0, 0, 0, 2, 0, 2\\n0, 0, 0, 0, 0, 0, 0, 0, 0, 0, 0, 0, 0, 0\\n0, 0, 0, 0, 1, 0, 0, 0, 0, 0, 0, 0, 0, 0\\n2, 0, 0, 1, 0, 0, 0, 1, 0, 0, 0, 0, 0, 0\\n0, 0, 0, 0, 0, 0, 2, 0, 3, 2, 0, 0, 0, 2\\n0, 2, 0, 0, 0, 0, 0, 0, 0, 0, 0, 0, 0, 0\\n2, 0, 0, 0, 0, 0, 0, 0, 0, 0, 0, 0, 0, 0\\n0, 0, 0, 0, 0, 0, 0, 0, 0, 0, 0, 0, 0, 0\\n0]\"] ;\n",
      "2 -> 3 ;\n",
      "4 [label=\"gini = 0.99\\nsamples = 1002\\nvalue = [27, 60, 61, 42, 31, 45, 54, 49, 33, 28, 20, 20\\n18, 32, 27, 27, 26, 36, 29, 16, 29, 25, 10, 19\\n19, 22, 24, 17, 11, 16, 9, 7, 5, 20, 14, 12\\n12, 9, 19, 4, 14, 6, 15, 10, 18, 9, 11, 13, 8\\n5, 3, 13, 16, 2, 13, 3, 11, 8, 6, 4, 13, 10\\n5, 7, 1, 7, 4, 7, 5, 8, 2, 3, 3, 1, 2, 7\\n1, 4, 10, 9, 3, 2, 8, 2, 7, 3, 4, 4, 2, 2\\n0, 4, 1, 2, 0, 3, 1, 0, 2, 2, 3, 4, 2, 5\\n3, 2, 2, 2, 6, 3, 0, 1, 2, 0, 2, 0, 1, 0\\n1, 4, 4, 0, 1, 0, 0, 0, 4, 5, 0, 0, 0, 0\\n3, 1, 0, 4, 4, 1, 2, 1, 0, 1, 2, 2, 4, 0\\n1, 0, 0, 3, 0, 0, 0, 2, 0, 1, 1, 1, 5, 1\\n1, 5, 1, 0, 0, 0, 1, 0, 0, 1, 0, 1, 3, 0\\n2, 0, 0, 3, 0, 0, 0, 0, 0, 5, 1, 0, 0, 0\\n0, 0, 0, 4, 2, 2, 0, 3, 1, 4, 0, 0, 0, 2\\n1, 2, 0, 0, 1, 0, 0, 0, 2, 4, 0, 4, 1, 2\\n0, 1, 0, 0, 0, 0, 0, 5, 4, 0, 1, 0, 1, 0\\n0, 0, 0, 0, 0, 3, 0, 0, 0, 0, 4, 3, 0, 0\\n3, 1, 0, 0, 1, 5, 1, 3, 0, 0, 0, 0, 0, 2\\n0, 1, 0, 0, 1, 1, 0, 1, 1, 3, 2, 2, 0, 0\\n0, 0, 0, 0, 0, 1, 0, 0, 0, 0, 0, 2, 3, 0\\n1, 0, 0, 1, 3, 0, 0, 0, 0, 0, 0, 0, 0, 0\\n1, 0, 0, 0, 0, 0, 0, 0, 0, 0, 0, 0, 0, 0\\n0, 3, 0, 0, 0, 0, 0, 0, 0, 0, 0, 0, 1, 1\\n0, 0, 0, 4, 0, 0, 0, 0, 0, 0, 0, 0, 0, 0\\n0, 0, 0, 0, 0, 1, 1, 0, 0, 0, 0, 0, 0, 0\\n1, 0, 0, 0, 0, 0, 1, 0, 0, 0, 2, 0, 2, 0\\n0, 0, 0, 0, 0, 0, 0, 0, 0, 0, 0, 0, 0, 0\\n0, 0, 0, 1, 0, 0, 0, 0, 0, 0, 0, 0, 0, 2\\n0, 0, 1, 0, 0, 0, 1, 0, 0, 0, 0, 0, 0, 0\\n0, 0, 0, 0, 0, 2, 0, 3, 2, 0, 0, 0, 2, 0\\n2, 0, 0, 0, 0, 0, 0, 0, 0, 0, 0, 0, 0, 0\\n0, 0, 0, 0, 0, 0, 0, 0, 0, 0, 0, 0, 0, 0\\n0, 0, 0, 0, 0, 0, 0, 0, 0, 0, 0, 0, 0, 0]\"] ;\n",
      "3 -> 4 ;\n",
      "5 [label=\"gini = 0.98\\nsamples = 407\\nvalue = [16, 34, 15, 13, 9, 11, 24, 21, 13, 23, 26, 20\\n6, 19, 3, 8, 7, 9, 10, 4, 3, 9, 15, 11, 9, 5\\n7, 5, 7, 21, 5, 11, 3, 7, 4, 11, 1, 2, 1, 10\\n6, 2, 5, 4, 1, 1, 5, 5, 1, 1, 2, 1, 4, 0\\n6, 4, 3, 4, 1, 4, 2, 0, 2, 3, 1, 3, 1, 0\\n4, 0, 5, 0, 5, 0, 1, 1, 0, 2, 2, 0, 4, 3\\n2, 0, 1, 1, 1, 0, 0, 2, 4, 3, 1, 0, 0, 2\\n1, 4, 0, 1, 0, 2, 0, 0, 0, 0, 0, 0, 0, 0\\n2, 0, 0, 0, 3, 1, 0, 1, 2, 0, 0, 0, 0, 3\\n0, 0, 0, 2, 0, 1, 0, 0, 1, 0, 5, 1, 0, 0\\n0, 0, 0, 0, 1, 0, 0, 0, 0, 0, 0, 0, 0, 1\\n0, 0, 0, 0, 0, 0, 0, 0, 1, 1, 1, 0, 1, 0\\n2, 0, 0, 1, 1, 1, 0, 0, 1, 0, 0, 0, 0, 0\\n0, 3, 0, 0, 0, 0, 0, 0, 0, 0, 0, 0, 0, 1\\n1, 0, 0, 0, 0, 0, 0, 0, 0, 0, 0, 0, 0, 2\\n0, 0, 0, 0, 0, 0, 1, 1, 0, 3, 0, 1, 0, 0\\n1, 0, 0, 0, 0, 0, 0, 0, 0, 0, 0, 0, 0, 0\\n0, 0, 0, 0, 0, 0, 0, 1, 0, 0, 0, 0, 0, 0\\n0, 3, 0, 0, 0, 0, 0, 0, 0, 0, 0, 0, 0, 0\\n0, 0, 1, 0, 0, 0, 0, 1, 0, 0, 0, 0, 0, 0\\n0, 0, 0, 0, 0, 0, 0, 0, 0, 0, 0, 0, 0, 0\\n2, 0, 0, 0, 2, 0, 2, 0, 0, 0, 0, 0, 0, 0\\n0, 0, 0, 0, 0, 0, 0, 0, 0, 0, 1, 0, 0, 0\\n0, 0, 0, 0, 0, 0, 0, 0, 0, 0, 0, 0, 0, 0\\n1, 0, 0, 0, 0, 0, 0, 0, 0, 0, 0, 0, 0, 0\\n0, 0, 4, 0, 0, 0, 0, 0, 0, 0, 0, 0, 0, 0\\n0, 0, 0, 0, 0, 0, 0, 0, 0, 0, 0, 0, 0, 0\\n0, 0, 0, 0, 0, 0, 0, 0, 0, 0, 0, 0, 0, 0\\n0, 0, 0, 0, 0, 0, 0, 0, 0, 0, 0, 0, 0, 0\\n0, 0, 0, 0, 0, 0, 0, 0, 0, 0, 0, 0, 0, 0\\n0, 0, 0, 0, 0, 0, 0, 0, 0, 0, 0, 0, 0, 0\\n0, 0, 0, 0, 0, 0, 0, 2, 0, 0, 0, 0, 0, 0\\n0, 0, 0, 0, 0, 0, 0, 0, 0, 0, 0, 0, 0, 0\\n0, 0, 0, 0, 0, 0, 0, 0]\"] ;\n",
      "3 -> 5 ;\n",
      "6 [label=\"gini = 0.0\\nsamples = 1\\nvalue = [0, 0, 0, 0, 0, 0, 3, 0, 0, 0, 0, 0, 0, 0\\n0, 0, 0, 0, 0, 0, 0, 0, 0, 0, 0, 0, 0, 0\\n0, 0, 0, 0, 0, 0, 0, 0, 0, 0, 0, 0, 0, 0\\n0, 0, 0, 0, 0, 0, 0, 0, 0, 0, 0, 0, 0, 0\\n0, 0, 0, 0, 0, 0, 0, 0, 0, 0, 0, 0, 0, 0\\n0, 0, 0, 0, 0, 0, 0, 0, 0, 0, 0, 0, 0, 0\\n0, 0, 0, 0, 0, 0, 0, 0, 0, 0, 0, 0, 0, 0\\n0, 0, 0, 0, 0, 0, 0, 0, 0, 0, 0, 0, 0, 0\\n0, 0, 0, 0, 0, 0, 0, 0, 0, 0, 0, 0, 0, 0\\n0, 0, 0, 0, 0, 0, 0, 0, 0, 0, 0, 0, 0, 0\\n0, 0, 0, 0, 0, 0, 0, 0, 0, 0, 0, 0, 0, 0\\n0, 0, 0, 0, 0, 0, 0, 0, 0, 0, 0, 0, 0, 0\\n0, 0, 0, 0, 0, 0, 0, 0, 0, 0, 0, 0, 0, 0\\n0, 0, 0, 0, 0, 0, 0, 0, 0, 0, 0, 0, 0, 0\\n0, 0, 0, 0, 0, 0, 0, 0, 0, 0, 0, 0, 0, 0\\n0, 0, 0, 0, 0, 0, 0, 0, 0, 0, 0, 0, 0, 0\\n0, 0, 0, 0, 0, 0, 0, 0, 0, 0, 0, 0, 0, 0\\n0, 0, 0, 0, 0, 0, 0, 0, 0, 0, 0, 0, 0, 0\\n0, 0, 0, 0, 0, 0, 0, 0, 0, 0, 0, 0, 0, 0\\n0, 0, 0, 0, 0, 0, 0, 0, 0, 0, 0, 0, 0, 0\\n0, 0, 0, 0, 0, 0, 0, 0, 0, 0, 0, 0, 0, 0\\n0, 0, 0, 0, 0, 0, 0, 0, 0, 0, 0, 0, 0, 0\\n0, 0, 0, 0, 0, 0, 0, 0, 0, 0, 0, 0, 0, 0\\n0, 0, 0, 0, 0, 0, 0, 0, 0, 0, 0, 0, 0, 0\\n0, 0, 0, 0, 0, 0, 0, 0, 0, 0, 0, 0, 0, 0\\n0, 0, 0, 0, 0, 0, 0, 0, 0, 0, 0, 0, 0, 0\\n0, 0, 0, 0, 0, 0, 0, 0, 0, 0, 0, 0, 0, 0\\n0, 0, 0, 0, 0, 0, 0, 0, 0, 0, 0, 0, 0, 0\\n0, 0, 0, 0, 0, 0, 0, 0, 0, 0, 0, 0, 0, 0\\n0, 0, 0, 0, 0, 0, 0, 0, 0, 0, 0, 0, 0, 0\\n0, 0, 0, 0, 0, 0, 0, 0, 0, 0, 0, 0, 0, 0\\n0, 0, 0, 0, 0, 0, 0, 0, 0, 0, 0, 0, 0, 0\\n0, 0, 0, 0, 0, 0, 0, 0, 0, 0, 0, 0, 0, 0\\n0, 0, 0, 0, 0, 0]\"] ;\n",
      "2 -> 6 ;\n",
      "7 [label=\"num_passengers <= 8.5\\ngini = 0.99\\nsamples = 599\\nvalue = [13, 18, 11, 4, 15, 15, 21, 11, 12, 17, 17, 8\\n18, 14, 5, 9, 2, 9, 15, 22, 17, 21, 10, 13, 8\\n10, 6, 10, 7, 8, 21, 8, 6, 3, 10, 7, 6, 5, 9\\n2, 8, 2, 8, 4, 15, 9, 6, 7, 3, 5, 7, 3, 6\\n6, 0, 0, 6, 2, 1, 11, 3, 1, 4, 3, 5, 0, 3\\n6, 8, 9, 1, 0, 3, 2, 3, 3, 1, 5, 0, 3, 3\\n5, 5, 5, 13, 8, 3, 7, 1, 4, 1, 7, 2, 7, 3\\n1, 3, 1, 1, 5, 2, 0, 0, 1, 1, 0, 0, 1, 1\\n5, 1, 1, 0, 0, 1, 1, 0, 0, 8, 2, 3, 0, 3\\n4, 2, 0, 0, 1, 0, 0, 1, 3, 0, 0, 1, 4, 1\\n2, 3, 2, 0, 0, 0, 0, 8, 1, 2, 0, 1, 4, 0\\n0, 4, 0, 1, 0, 2, 0, 1, 0, 0, 1, 5, 0, 1\\n0, 0, 0, 0, 0, 1, 0, 0, 2, 0, 0, 0, 0, 4\\n3, 0, 1, 0, 0, 0, 2, 3, 2, 0, 0, 1, 2, 0\\n0, 0, 0, 0, 1, 0, 0, 2, 3, 0, 0, 4, 0, 1\\n1, 0, 1, 5, 0, 0, 0, 2, 2, 7, 0, 4, 1, 2\\n1, 0, 0, 0, 2, 0, 0, 0, 5, 3, 0, 1, 3, 0\\n2, 6, 0, 2, 1, 3, 1, 0, 1, 0, 0, 0, 0, 0\\n1, 1, 0, 0, 2, 0, 0, 1, 0, 3, 0, 0, 1, 0\\n0, 1, 0, 1, 0, 1, 0, 0, 0, 2, 0, 1, 0, 1\\n0, 0, 0, 0, 1, 0, 0, 1, 0, 0, 0, 0, 0, 0\\n0, 1, 1, 1, 0, 0, 1, 2, 0, 0, 0, 0, 2, 0\\n2, 0, 1, 0, 3, 0, 0, 0, 2, 0, 0, 0, 0, 0\\n0, 0, 0, 0, 2, 0, 0, 1, 0, 0, 1, 0, 0, 0\\n0, 0, 0, 0, 0, 0, 0, 1, 0, 0, 0, 0, 2, 0\\n0, 3, 0, 0, 0, 0, 0, 2, 0, 0, 0, 1, 0, 0\\n3, 2, 0, 0, 0, 0, 0, 0, 0, 0, 0, 0, 0, 0\\n0, 0, 0, 0, 1, 0, 0, 0, 0, 0, 0, 0, 0, 0\\n0, 0, 0, 0, 0, 1, 0, 0, 0, 0, 1, 0, 0, 0\\n0, 0, 0, 0, 0, 0, 0, 0, 3, 0, 0, 0, 0, 0\\n0, 0, 0, 0, 0, 0, 0, 0, 0, 0, 0, 1, 0, 0\\n0, 0, 0, 0, 0, 1, 0, 0, 0, 0, 0, 0, 0, 0\\n0, 0, 0, 0, 0, 0, 0, 1, 0, 0, 1, 0, 0, 0\\n0, 0, 0, 0, 0, 0, 0, 0, 0]\"] ;\n",
      "1 -> 7 ;\n",
      "8 [label=\"wants_preferred_seat <= 0.5\\ngini = 0.99\\nsamples = 595\\nvalue = [13, 18, 11, 4, 15, 15, 21, 11, 12, 17, 17, 8\\n18, 14, 5, 9, 2, 9, 15, 22, 17, 21, 10, 13, 8\\n10, 6, 10, 7, 8, 21, 8, 6, 3, 10, 7, 6, 5, 9\\n2, 8, 2, 8, 4, 15, 9, 6, 7, 3, 5, 7, 3, 6\\n6, 0, 0, 6, 2, 1, 11, 3, 1, 4, 3, 4, 0, 3\\n6, 8, 9, 1, 0, 3, 2, 3, 3, 1, 5, 0, 3, 3\\n5, 5, 5, 13, 8, 3, 4, 1, 4, 1, 7, 2, 7, 3\\n1, 3, 1, 1, 5, 2, 0, 0, 1, 1, 0, 0, 1, 1\\n5, 1, 1, 0, 0, 1, 1, 0, 0, 8, 2, 3, 0, 3\\n4, 2, 0, 0, 1, 0, 0, 1, 3, 0, 0, 1, 4, 1\\n2, 3, 2, 0, 0, 0, 0, 8, 1, 2, 0, 1, 4, 0\\n0, 4, 0, 1, 0, 2, 0, 1, 0, 0, 1, 5, 0, 1\\n0, 0, 0, 0, 0, 1, 0, 0, 2, 0, 0, 0, 0, 4\\n3, 0, 1, 0, 0, 0, 2, 3, 2, 0, 0, 1, 2, 0\\n0, 0, 0, 0, 1, 0, 0, 2, 3, 0, 0, 0, 0, 1\\n1, 0, 1, 5, 0, 0, 0, 2, 2, 7, 0, 4, 1, 2\\n1, 0, 0, 0, 2, 0, 0, 0, 5, 3, 0, 1, 3, 0\\n2, 6, 0, 2, 1, 3, 1, 0, 1, 0, 0, 0, 0, 0\\n1, 1, 0, 0, 2, 0, 0, 1, 0, 3, 0, 0, 1, 0\\n0, 1, 0, 1, 0, 1, 0, 0, 0, 2, 0, 1, 0, 1\\n0, 0, 0, 0, 1, 0, 0, 1, 0, 0, 0, 0, 0, 0\\n0, 1, 1, 1, 0, 0, 1, 2, 0, 0, 0, 0, 2, 0\\n2, 0, 1, 0, 3, 0, 0, 0, 2, 0, 0, 0, 0, 0\\n0, 0, 0, 0, 2, 0, 0, 1, 0, 0, 1, 0, 0, 0\\n0, 0, 0, 0, 0, 0, 0, 1, 0, 0, 0, 0, 2, 0\\n0, 3, 0, 0, 0, 0, 0, 2, 0, 0, 0, 1, 0, 0\\n3, 2, 0, 0, 0, 0, 0, 0, 0, 0, 0, 0, 0, 0\\n0, 0, 0, 0, 1, 0, 0, 0, 0, 0, 0, 0, 0, 0\\n0, 0, 0, 0, 0, 1, 0, 0, 0, 0, 1, 0, 0, 0\\n0, 0, 0, 0, 0, 0, 0, 0, 3, 0, 0, 0, 0, 0\\n0, 0, 0, 0, 0, 0, 0, 0, 0, 0, 0, 1, 0, 0\\n0, 0, 0, 0, 0, 1, 0, 0, 0, 0, 0, 0, 0, 0\\n0, 0, 0, 0, 0, 0, 0, 1, 0, 0, 1, 0, 0, 0\\n0, 0, 0, 0, 0, 0, 0, 0, 0]\"] ;\n",
      "7 -> 8 ;\n",
      "9 [label=\"gini = 0.99\\nsamples = 427\\nvalue = [12, 12, 7, 4, 12, 13, 18, 6, 10, 6, 10, 8, 17\\n9, 3, 6, 1, 6, 13, 14, 14, 14, 9, 9, 5, 8, 0\\n9, 7, 3, 18, 6, 5, 3, 4, 7, 4, 3, 6, 1, 6\\n2, 6, 2, 12, 9, 3, 1, 1, 5, 5, 3, 6, 4, 0\\n0, 2, 2, 1, 8, 1, 0, 4, 3, 4, 0, 0, 2, 2\\n0, 1, 0, 1, 0, 3, 3, 1, 2, 0, 3, 0, 4, 5\\n2, 7, 8, 1, 3, 0, 4, 1, 7, 0, 5, 3, 1, 3\\n0, 1, 2, 2, 0, 0, 1, 1, 0, 0, 1, 1, 4, 1\\n1, 0, 0, 0, 1, 0, 0, 2, 2, 1, 0, 0, 1, 0\\n0, 0, 1, 0, 0, 0, 2, 0, 0, 1, 2, 0, 2, 3\\n2, 0, 0, 0, 0, 8, 1, 0, 0, 1, 0, 0, 0, 4\\n0, 1, 0, 2, 0, 0, 0, 0, 1, 3, 0, 1, 0, 0\\n0, 0, 0, 1, 0, 0, 2, 0, 0, 0, 0, 0, 3, 0\\n0, 0, 0, 0, 2, 3, 2, 0, 0, 1, 2, 0, 0, 0\\n0, 0, 1, 0, 0, 2, 3, 0, 0, 0, 0, 0, 0, 0\\n1, 3, 0, 0, 0, 2, 2, 6, 0, 4, 1, 2, 1, 0\\n0, 0, 2, 0, 0, 0, 5, 0, 0, 1, 1, 0, 2, 6\\n0, 2, 1, 2, 1, 0, 1, 0, 0, 0, 0, 0, 0, 1\\n0, 0, 2, 0, 0, 0, 0, 3, 0, 0, 0, 0, 0, 0\\n0, 1, 0, 0, 0, 0, 0, 2, 0, 1, 0, 0, 0, 0\\n0, 0, 1, 0, 0, 1, 0, 0, 0, 0, 0, 0, 0, 1\\n1, 1, 0, 0, 1, 2, 0, 0, 0, 0, 2, 0, 2, 0\\n1, 0, 3, 0, 0, 0, 0, 0, 0, 0, 0, 0, 0, 0\\n0, 0, 1, 0, 0, 1, 0, 0, 1, 0, 0, 0, 0, 0\\n0, 0, 0, 0, 0, 0, 0, 0, 0, 0, 0, 0, 0, 3\\n0, 0, 0, 0, 0, 2, 0, 0, 0, 1, 0, 0, 3, 2\\n0, 0, 0, 0, 0, 0, 0, 0, 0, 0, 0, 0, 0, 0\\n0, 0, 0, 0, 0, 0, 0, 0, 0, 0, 0, 0, 0, 0\\n0, 0, 0, 1, 0, 0, 0, 0, 1, 0, 0, 0, 0, 0\\n0, 0, 0, 0, 0, 0, 3, 0, 0, 0, 0, 0, 0, 0\\n0, 0, 0, 0, 0, 0, 0, 0, 0, 1, 0, 0, 0, 0\\n0, 0, 0, 1, 0, 0, 0, 0, 0, 0, 0, 0, 0, 0\\n0, 0, 0, 0, 0, 1, 0, 0, 1, 0, 0, 0, 0, 0\\n0, 0, 0, 0, 0, 0, 0]\"] ;\n",
      "8 -> 9 ;\n",
      "10 [label=\"gini = 0.98\\nsamples = 168\\nvalue = [1, 6, 4, 0, 3, 2, 3, 5, 2, 11, 7, 0, 1, 5\\n2, 3, 1, 3, 2, 8, 3, 7, 1, 4, 3, 2, 6, 1\\n0, 5, 3, 2, 1, 0, 6, 0, 2, 2, 3, 1, 2, 0\\n2, 2, 3, 0, 3, 6, 2, 0, 2, 0, 0, 2, 0, 0\\n4, 0, 0, 3, 2, 1, 0, 0, 0, 0, 3, 4, 6, 9\\n0, 0, 2, 2, 0, 0, 0, 3, 0, 0, 3, 1, 0, 3\\n6, 0, 2, 1, 1, 0, 0, 0, 2, 2, 0, 0, 0, 1\\n0, 3, 0, 0, 0, 0, 0, 0, 0, 0, 0, 1, 0, 0\\n0, 0, 1, 0, 0, 0, 6, 0, 2, 0, 3, 3, 2, 0\\n0, 0, 0, 0, 1, 1, 0, 0, 0, 2, 1, 0, 0, 0\\n0, 0, 0, 0, 0, 0, 2, 0, 0, 4, 0, 0, 0, 0\\n0, 0, 0, 0, 1, 0, 0, 0, 2, 0, 0, 0, 0, 0\\n0, 0, 0, 0, 0, 0, 0, 0, 0, 0, 4, 0, 0, 1\\n0, 0, 0, 0, 0, 0, 0, 0, 0, 0, 0, 0, 0, 0\\n0, 0, 0, 0, 0, 0, 0, 0, 0, 0, 1, 1, 0, 0\\n2, 0, 0, 0, 0, 0, 1, 0, 0, 0, 0, 0, 0, 0\\n0, 0, 0, 0, 0, 0, 3, 0, 0, 2, 0, 0, 0, 0\\n0, 0, 1, 0, 0, 0, 0, 0, 0, 0, 0, 1, 0, 0\\n0, 0, 0, 0, 1, 0, 0, 0, 0, 1, 0, 0, 1, 0\\n0, 0, 1, 0, 0, 0, 0, 0, 0, 0, 1, 0, 0, 0\\n0, 0, 0, 0, 0, 0, 0, 0, 0, 0, 0, 0, 0, 0\\n0, 0, 0, 0, 0, 0, 0, 0, 0, 0, 0, 0, 0, 0\\n0, 0, 0, 0, 0, 2, 0, 0, 0, 0, 0, 0, 0, 0\\n0, 1, 0, 0, 0, 0, 0, 0, 0, 0, 0, 0, 0, 0\\n0, 0, 0, 0, 1, 0, 0, 0, 0, 2, 0, 0, 0, 0\\n0, 0, 0, 0, 0, 0, 0, 0, 0, 0, 0, 0, 0, 0\\n0, 0, 0, 0, 0, 0, 0, 0, 0, 0, 0, 0, 0, 0\\n0, 1, 0, 0, 0, 0, 0, 0, 0, 0, 0, 0, 0, 0\\n0, 0, 0, 0, 0, 0, 0, 0, 0, 0, 0, 0, 0, 0\\n0, 0, 0, 0, 0, 0, 0, 0, 0, 0, 0, 0, 0, 0\\n0, 0, 0, 0, 0, 0, 0, 0, 0, 0, 0, 0, 0, 0\\n0, 0, 0, 0, 0, 0, 0, 0, 0, 0, 0, 0, 0, 0\\n0, 0, 0, 0, 0, 0, 0, 0, 0, 0, 0, 0, 0, 0\\n0, 0, 0, 0, 0, 0]\"] ;\n",
      "8 -> 10 ;\n",
      "11 [label=\"wants_extra_baggage <= 0.5\\ngini = 0.59\\nsamples = 4\\nvalue = [0, 0, 0, 0, 0, 0, 0, 0, 0, 0, 0, 0, 0, 0\\n0, 0, 0, 0, 0, 0, 0, 0, 0, 0, 0, 0, 0, 0\\n0, 0, 0, 0, 0, 0, 0, 0, 0, 0, 0, 0, 0, 0\\n0, 0, 0, 0, 0, 0, 0, 0, 0, 0, 0, 0, 0, 0\\n0, 0, 0, 0, 0, 0, 0, 0, 1, 0, 0, 0, 0, 0\\n0, 0, 0, 0, 0, 0, 0, 0, 0, 0, 0, 0, 0, 0\\n0, 0, 0, 3, 0, 0, 0, 0, 0, 0, 0, 0, 0, 0\\n0, 0, 0, 0, 0, 0, 0, 0, 0, 0, 0, 0, 0, 0\\n0, 0, 0, 0, 0, 0, 0, 0, 0, 0, 0, 0, 0, 0\\n0, 0, 0, 0, 0, 0, 0, 0, 0, 0, 0, 0, 0, 0\\n0, 0, 0, 0, 0, 0, 0, 0, 0, 0, 0, 0, 0, 0\\n0, 0, 0, 0, 0, 0, 0, 0, 0, 0, 0, 0, 0, 0\\n0, 0, 0, 0, 0, 0, 0, 0, 0, 0, 0, 0, 0, 0\\n0, 0, 0, 0, 0, 0, 0, 0, 0, 0, 0, 0, 0, 0\\n0, 0, 0, 0, 0, 0, 0, 0, 4, 0, 0, 0, 0, 0\\n0, 0, 0, 0, 0, 0, 0, 0, 0, 0, 0, 0, 0, 0\\n0, 0, 0, 0, 0, 0, 0, 0, 0, 0, 0, 0, 0, 0\\n0, 0, 0, 0, 0, 0, 0, 0, 0, 0, 0, 0, 0, 0\\n0, 0, 0, 0, 0, 0, 0, 0, 0, 0, 0, 0, 0, 0\\n0, 0, 0, 0, 0, 0, 0, 0, 0, 0, 0, 0, 0, 0\\n0, 0, 0, 0, 0, 0, 0, 0, 0, 0, 0, 0, 0, 0\\n0, 0, 0, 0, 0, 0, 0, 0, 0, 0, 0, 0, 0, 0\\n0, 0, 0, 0, 0, 0, 0, 0, 0, 0, 0, 0, 0, 0\\n0, 0, 0, 0, 0, 0, 0, 0, 0, 0, 0, 0, 0, 0\\n0, 0, 0, 0, 0, 0, 0, 0, 0, 0, 0, 0, 0, 0\\n0, 0, 0, 0, 0, 0, 0, 0, 0, 0, 0, 0, 0, 0\\n0, 0, 0, 0, 0, 0, 0, 0, 0, 0, 0, 0, 0, 0\\n0, 0, 0, 0, 0, 0, 0, 0, 0, 0, 0, 0, 0, 0\\n0, 0, 0, 0, 0, 0, 0, 0, 0, 0, 0, 0, 0, 0\\n0, 0, 0, 0, 0, 0, 0, 0, 0, 0, 0, 0, 0, 0\\n0, 0, 0, 0, 0, 0, 0, 0, 0, 0, 0, 0, 0, 0\\n0, 0, 0, 0, 0, 0, 0, 0, 0, 0, 0, 0, 0, 0\\n0, 0, 0, 0, 0, 0, 0, 0, 0, 0, 0, 0, 0, 0\\n0, 0, 0, 0, 0, 0]\"] ;\n",
      "7 -> 11 ;\n",
      "12 [label=\"gini = 0.38\\nsamples = 3\\nvalue = [0, 0, 0, 0, 0, 0, 0, 0, 0, 0, 0, 0, 0, 0\\n0, 0, 0, 0, 0, 0, 0, 0, 0, 0, 0, 0, 0, 0\\n0, 0, 0, 0, 0, 0, 0, 0, 0, 0, 0, 0, 0, 0\\n0, 0, 0, 0, 0, 0, 0, 0, 0, 0, 0, 0, 0, 0\\n0, 0, 0, 0, 0, 0, 0, 0, 1, 0, 0, 0, 0, 0\\n0, 0, 0, 0, 0, 0, 0, 0, 0, 0, 0, 0, 0, 0\\n0, 0, 0, 3, 0, 0, 0, 0, 0, 0, 0, 0, 0, 0\\n0, 0, 0, 0, 0, 0, 0, 0, 0, 0, 0, 0, 0, 0\\n0, 0, 0, 0, 0, 0, 0, 0, 0, 0, 0, 0, 0, 0\\n0, 0, 0, 0, 0, 0, 0, 0, 0, 0, 0, 0, 0, 0\\n0, 0, 0, 0, 0, 0, 0, 0, 0, 0, 0, 0, 0, 0\\n0, 0, 0, 0, 0, 0, 0, 0, 0, 0, 0, 0, 0, 0\\n0, 0, 0, 0, 0, 0, 0, 0, 0, 0, 0, 0, 0, 0\\n0, 0, 0, 0, 0, 0, 0, 0, 0, 0, 0, 0, 0, 0\\n0, 0, 0, 0, 0, 0, 0, 0, 0, 0, 0, 0, 0, 0\\n0, 0, 0, 0, 0, 0, 0, 0, 0, 0, 0, 0, 0, 0\\n0, 0, 0, 0, 0, 0, 0, 0, 0, 0, 0, 0, 0, 0\\n0, 0, 0, 0, 0, 0, 0, 0, 0, 0, 0, 0, 0, 0\\n0, 0, 0, 0, 0, 0, 0, 0, 0, 0, 0, 0, 0, 0\\n0, 0, 0, 0, 0, 0, 0, 0, 0, 0, 0, 0, 0, 0\\n0, 0, 0, 0, 0, 0, 0, 0, 0, 0, 0, 0, 0, 0\\n0, 0, 0, 0, 0, 0, 0, 0, 0, 0, 0, 0, 0, 0\\n0, 0, 0, 0, 0, 0, 0, 0, 0, 0, 0, 0, 0, 0\\n0, 0, 0, 0, 0, 0, 0, 0, 0, 0, 0, 0, 0, 0\\n0, 0, 0, 0, 0, 0, 0, 0, 0, 0, 0, 0, 0, 0\\n0, 0, 0, 0, 0, 0, 0, 0, 0, 0, 0, 0, 0, 0\\n0, 0, 0, 0, 0, 0, 0, 0, 0, 0, 0, 0, 0, 0\\n0, 0, 0, 0, 0, 0, 0, 0, 0, 0, 0, 0, 0, 0\\n0, 0, 0, 0, 0, 0, 0, 0, 0, 0, 0, 0, 0, 0\\n0, 0, 0, 0, 0, 0, 0, 0, 0, 0, 0, 0, 0, 0\\n0, 0, 0, 0, 0, 0, 0, 0, 0, 0, 0, 0, 0, 0\\n0, 0, 0, 0, 0, 0, 0, 0, 0, 0, 0, 0, 0, 0\\n0, 0, 0, 0, 0, 0, 0, 0, 0, 0, 0, 0, 0, 0\\n0, 0, 0, 0, 0, 0]\"] ;\n",
      "11 -> 12 ;\n",
      "13 [label=\"gini = 0.0\\nsamples = 1\\nvalue = [0, 0, 0, 0, 0, 0, 0, 0, 0, 0, 0, 0, 0, 0\\n0, 0, 0, 0, 0, 0, 0, 0, 0, 0, 0, 0, 0, 0\\n0, 0, 0, 0, 0, 0, 0, 0, 0, 0, 0, 0, 0, 0\\n0, 0, 0, 0, 0, 0, 0, 0, 0, 0, 0, 0, 0, 0\\n0, 0, 0, 0, 0, 0, 0, 0, 0, 0, 0, 0, 0, 0\\n0, 0, 0, 0, 0, 0, 0, 0, 0, 0, 0, 0, 0, 0\\n0, 0, 0, 0, 0, 0, 0, 0, 0, 0, 0, 0, 0, 0\\n0, 0, 0, 0, 0, 0, 0, 0, 0, 0, 0, 0, 0, 0\\n0, 0, 0, 0, 0, 0, 0, 0, 0, 0, 0, 0, 0, 0\\n0, 0, 0, 0, 0, 0, 0, 0, 0, 0, 0, 0, 0, 0\\n0, 0, 0, 0, 0, 0, 0, 0, 0, 0, 0, 0, 0, 0\\n0, 0, 0, 0, 0, 0, 0, 0, 0, 0, 0, 0, 0, 0\\n0, 0, 0, 0, 0, 0, 0, 0, 0, 0, 0, 0, 0, 0\\n0, 0, 0, 0, 0, 0, 0, 0, 0, 0, 0, 0, 0, 0\\n0, 0, 0, 0, 0, 0, 0, 0, 4, 0, 0, 0, 0, 0\\n0, 0, 0, 0, 0, 0, 0, 0, 0, 0, 0, 0, 0, 0\\n0, 0, 0, 0, 0, 0, 0, 0, 0, 0, 0, 0, 0, 0\\n0, 0, 0, 0, 0, 0, 0, 0, 0, 0, 0, 0, 0, 0\\n0, 0, 0, 0, 0, 0, 0, 0, 0, 0, 0, 0, 0, 0\\n0, 0, 0, 0, 0, 0, 0, 0, 0, 0, 0, 0, 0, 0\\n0, 0, 0, 0, 0, 0, 0, 0, 0, 0, 0, 0, 0, 0\\n0, 0, 0, 0, 0, 0, 0, 0, 0, 0, 0, 0, 0, 0\\n0, 0, 0, 0, 0, 0, 0, 0, 0, 0, 0, 0, 0, 0\\n0, 0, 0, 0, 0, 0, 0, 0, 0, 0, 0, 0, 0, 0\\n0, 0, 0, 0, 0, 0, 0, 0, 0, 0, 0, 0, 0, 0\\n0, 0, 0, 0, 0, 0, 0, 0, 0, 0, 0, 0, 0, 0\\n0, 0, 0, 0, 0, 0, 0, 0, 0, 0, 0, 0, 0, 0\\n0, 0, 0, 0, 0, 0, 0, 0, 0, 0, 0, 0, 0, 0\\n0, 0, 0, 0, 0, 0, 0, 0, 0, 0, 0, 0, 0, 0\\n0, 0, 0, 0, 0, 0, 0, 0, 0, 0, 0, 0, 0, 0\\n0, 0, 0, 0, 0, 0, 0, 0, 0, 0, 0, 0, 0, 0\\n0, 0, 0, 0, 0, 0, 0, 0, 0, 0, 0, 0, 0, 0\\n0, 0, 0, 0, 0, 0, 0, 0, 0, 0, 0, 0, 0, 0\\n0, 0, 0, 0, 0, 0]\"] ;\n",
      "11 -> 13 ;\n",
      "14 [label=\"num_passengers <= 1.5\\ngini = 0.99\\nsamples = 23282\\nvalue = [253, 471, 447, 397, 399, 391, 452, 428, 414, 403\\n449, 393, 457, 425, 380, 405, 388, 353, 436, 390\\n435, 370, 389, 371, 332, 369, 360, 369, 321, 290\\n321, 286, 331, 330, 303, 299, 300, 337, 294, 285\\n288, 265, 348, 254, 281, 262, 280, 304, 257, 269\\n253, 229, 246, 205, 252, 231, 213, 201, 210, 192\\n180, 199, 158, 186, 185, 157, 196, 176, 158, 171\\n198, 175, 164, 176, 200, 153, 113, 180, 163, 165\\n127, 146, 170, 169, 136, 116, 127, 126, 120, 125\\n123, 107, 105, 119, 89, 119, 128, 100, 88, 108, 87\\n109, 110, 70, 86, 122, 124, 107, 111, 90, 100, 101\\n70, 110, 88, 108, 84, 105, 96, 93, 88, 73, 66\\n79, 70, 58, 97, 70, 106, 86, 82, 68, 64, 83, 67\\n73, 44, 74, 58, 65, 58, 32, 47, 76, 44, 54, 47\\n49, 44, 59, 61, 65, 68, 48, 63, 74, 44, 45, 36\\n63, 45, 47, 60, 58, 50, 59, 44, 38, 78, 70, 50\\n51, 43, 57, 71, 66, 35, 44, 51, 50, 49, 39, 32\\n28, 34, 43, 45, 44, 49, 51, 38, 41, 35, 25, 34\\n47, 43, 23, 47, 48, 31, 39, 33, 38, 46, 34, 33\\n34, 36, 34, 29, 30, 34, 40, 28, 43, 42, 33, 38\\n36, 36, 36, 23, 28, 36, 58, 28, 37, 39, 30, 28\\n46, 50, 28, 56, 45, 29, 51, 52, 36, 43, 59, 33\\n40, 30, 50, 28, 26, 35, 41, 35, 27, 25, 20, 28\\n36, 17, 33, 22, 21, 24, 23, 29, 41, 29, 35, 23\\n20, 22, 29, 23, 14, 22, 14, 18, 13, 23, 26, 17\\n18, 22, 26, 33, 16, 21, 15, 14, 24, 32, 10, 18\\n35, 15, 26, 17, 19, 33, 25, 24, 27, 15, 14, 21\\n27, 14, 21, 19, 14, 15, 13, 9, 29, 15, 13, 11\\n18, 30, 22, 15, 13, 18, 27, 15, 29, 20, 19, 9\\n12, 20, 9, 24, 13, 17, 21, 8, 16, 12, 16, 21\\n13, 22, 16, 11, 22, 15, 9, 14, 14, 12, 14, 8\\n9, 20, 14, 9, 12, 6, 9, 8, 16, 19, 9, 11, 11\\n5, 15, 13, 12, 11, 7, 16, 16, 14, 4, 15, 5, 4\\n8, 12, 5, 17, 9, 6, 16, 6, 10, 6, 18, 18, 16\\n9, 9, 4, 6, 10, 15, 8, 9, 9, 6, 15, 11, 14\\n8, 11, 20, 4, 10, 5, 2, 15, 3, 13, 8, 8, 1\\n7, 5, 6, 4, 4, 6, 10, 7, 14, 5, 2, 2, 10, 3\\n8, 3, 1, 0, 1, 1, 4, 6, 0, 0, 1, 0, 3, 7\\n2, 0, 0, 0, 0, 2, 1, 1, 0, 0, 0, 0, 1, 0\\n0, 5, 2, 1, 0, 0, 2, 1, 2, 1]\"] ;\n",
      "0 -> 14 [labeldistance=2.5, labelangle=-45, headlabel=\"False\"] ;\n",
      "15 [label=\"flight_duration <= 4.79\\ngini = 0.99\\nsamples = 14456\\nvalue = [205, 390, 388, 335, 317, 314, 348, 335, 314, 306\\n336, 289, 344, 334, 286, 299, 274, 255, 309, 288\\n311, 265, 257, 249, 238, 263, 252, 256, 240, 202\\n227, 209, 246, 223, 199, 193, 193, 240, 164, 189\\n176, 159, 228, 179, 175, 175, 168, 201, 167, 180\\n155, 149, 154, 148, 156, 145, 132, 131, 133, 115\\n119, 123, 104, 114, 117, 101, 117, 120, 98, 104\\n141, 110, 116, 109, 124, 83, 44, 99, 105, 91, 74\\n94, 95, 105, 78, 65, 85, 67, 50, 74, 78, 63, 67\\n65, 62, 67, 70, 63, 53, 60, 39, 59, 56, 34, 38\\n71, 57, 60, 63, 40, 54, 66, 42, 66, 51, 66, 54\\n59, 54, 48, 54, 39, 34, 40, 39, 39, 54, 47, 61\\n42, 46, 38, 28, 52, 40, 34, 25, 34, 22, 35, 29\\n13, 26, 38, 24, 30, 29, 24, 24, 32, 24, 35, 29\\n29, 29, 39, 25, 31, 24, 34, 25, 22, 30, 30, 21\\n25, 27, 22, 37, 37, 22, 23, 16, 29, 28, 25, 21\\n19, 21, 20, 14, 16, 19, 14, 13, 18, 19, 24, 21\\n24, 14, 16, 12, 14, 15, 27, 27, 8, 14, 22, 16\\n18, 14, 11, 8, 21, 12, 14, 23, 22, 14, 9, 15\\n20, 10, 13, 14, 17, 22, 8, 16, 18, 12, 16, 15\\n39, 10, 17, 18, 11, 13, 20, 13, 11, 20, 13, 12\\n29, 23, 21, 24, 35, 15, 19, 13, 28, 9, 11, 17\\n26, 10, 13, 10, 8, 15, 20, 6, 18, 14, 11, 5, 9\\n15, 16, 15, 21, 9, 9, 7, 13, 15, 5, 9, 10, 8\\n10, 12, 11, 5, 9, 7, 10, 13, 6, 17, 12, 8, 12\\n9, 6, 8, 14, 6, 12, 8, 8, 8, 11, 11, 8, 8, 7\\n9, 11, 7, 11, 8, 13, 7, 7, 6, 7, 6, 5, 7, 7\\n10, 7, 4, 6, 9, 8, 6, 10, 10, 9, 3, 6, 5, 5\\n10, 6, 5, 12, 0, 1, 1, 4, 6, 1, 10, 6, 7, 11\\n3, 0, 7, 5, 4, 3, 4, 3, 8, 9, 3, 1, 0, 3\\n1, 3, 5, 4, 0, 4, 1, 7, 2, 4, 5, 4, 4, 12\\n1, 0, 7, 1, 4, 4, 8, 3, 10, 7, 2, 10, 2, 5\\n5, 2, 7, 6, 3, 1, 0, 1, 4, 5, 2, 3, 3, 0\\n10, 3, 1, 4, 6, 4, 4, 4, 0, 1, 6, 0, 7, 5\\n3, 0, 0, 3, 0, 3, 0, 4, 5, 3, 3, 1, 0, 0\\n2, 0, 2, 0, 0, 0, 0, 1, 0, 0, 0, 0, 0, 0\\n0, 7, 1, 0, 0, 0, 0, 0, 0, 0, 0, 0, 0, 0\\n0, 0, 0, 0, 2, 0, 0, 0, 0, 0, 2, 0]\"] ;\n",
      "14 -> 15 ;\n",
      "16 [label=\"flight_hour <= 16.5\\ngini = 0.99\\nsamples = 1404\\nvalue = [31, 56, 66, 66, 49, 44, 46, 55, 47, 52, 52, 31\\n62, 58, 31, 53, 37, 31, 38, 16, 41, 27, 26, 42\\n22, 23, 23, 11, 24, 15, 30, 28, 28, 19, 12, 20\\n13, 11, 14, 10, 16, 8, 12, 14, 12, 7, 14, 31\\n13, 8, 12, 11, 11, 4, 12, 13, 7, 14, 6, 9, 7\\n11, 12, 9, 3, 3, 9, 7, 11, 14, 12, 17, 13, 19\\n13, 10, 3, 10, 4, 7, 6, 15, 10, 2, 6, 6, 11\\n3, 2, 3, 5, 8, 2, 1, 2, 5, 1, 3, 0, 5, 3\\n5, 5, 0, 1, 1, 7, 5, 6, 3, 0, 5, 3, 10, 12\\n6, 0, 6, 3, 5, 12, 0, 2, 2, 3, 4, 4, 4, 5\\n4, 3, 3, 3, 3, 0, 1, 4, 1, 8, 4, 3, 3, 0\\n2, 5, 4, 0, 3, 1, 0, 3, 6, 0, 4, 1, 2, 0\\n2, 5, 0, 0, 2, 3, 2, 4, 2, 7, 3, 4, 2, 2\\n0, 0, 2, 1, 0, 0, 0, 0, 0, 0, 0, 2, 3, 0\\n2, 1, 3, 4, 0, 1, 1, 0, 0, 2, 2, 1, 0, 0\\n0, 0, 0, 0, 3, 1, 5, 0, 0, 1, 6, 0, 0, 0\\n0, 0, 0, 3, 0, 0, 2, 3, 0, 1, 3, 0, 6, 0\\n0, 0, 1, 2, 0, 0, 0, 0, 5, 0, 0, 0, 4, 1\\n0, 2, 3, 0, 3, 0, 0, 2, 3, 0, 0, 3, 3, 0\\n0, 1, 0, 0, 0, 0, 1, 0, 0, 1, 1, 0, 0, 0\\n0, 0, 0, 1, 0, 1, 0, 0, 3, 0, 0, 0, 0, 1\\n0, 6, 0, 0, 0, 0, 1, 0, 0, 0, 0, 0, 0, 0\\n0, 1, 0, 0, 0, 0, 0, 1, 2, 0, 0, 0, 0, 0\\n0, 4, 0, 0, 0, 0, 0, 0, 0, 2, 0, 0, 0, 0\\n1, 0, 0, 0, 0, 0, 2, 0, 0, 0, 0, 0, 0, 1\\n0, 0, 0, 0, 0, 0, 0, 0, 2, 0, 0, 1, 0, 0\\n0, 0, 0, 0, 0, 0, 0, 3, 1, 0, 0, 0, 0, 0\\n0, 0, 0, 0, 0, 0, 0, 1, 0, 0, 0, 0, 0, 0\\n2, 0, 0, 0, 0, 0, 1, 1, 2, 0, 0, 0, 0, 0\\n0, 0, 0, 0, 0, 0, 0, 0, 0, 0, 0, 2, 0, 0\\n0, 4, 0, 0, 0, 1, 0, 0, 0, 0, 0, 0, 0, 2\\n0, 0, 0, 0, 0, 0, 0, 0, 0, 0, 0, 0, 0, 0\\n0, 0, 0, 0, 0, 0, 0, 0, 0, 0, 0, 0, 0, 0\\n0, 0, 0, 0, 0, 0, 0, 0, 0, 0, 0, 0, 0, 0\\n0, 0, 0]\"] ;\n",
      "15 -> 16 ;\n",
      "17 [label=\"gini = 0.99\\nsamples = 1343\\nvalue = [31, 56, 63, 65, 47, 44, 42, 43, 46, 48, 47, 31\\n60, 57, 28, 51, 37, 31, 34, 16, 41, 21, 26, 42\\n22, 22, 23, 10, 24, 15, 30, 28, 28, 19, 12, 19\\n13, 11, 14, 10, 16, 8, 10, 14, 12, 7, 12, 24\\n12, 8, 10, 11, 9, 4, 12, 13, 7, 14, 6, 9, 7\\n11, 12, 9, 3, 3, 9, 7, 11, 14, 12, 16, 13, 19\\n13, 10, 3, 10, 4, 6, 6, 15, 7, 2, 4, 6, 11\\n3, 2, 3, 2, 8, 2, 1, 2, 5, 1, 3, 0, 5, 3\\n5, 5, 0, 1, 1, 7, 5, 6, 3, 0, 5, 3, 10, 12\\n6, 0, 6, 3, 5, 9, 0, 2, 2, 3, 4, 4, 4, 5\\n4, 3, 3, 3, 3, 0, 0, 3, 1, 8, 4, 3, 3, 0\\n2, 5, 4, 0, 3, 1, 0, 3, 6, 0, 4, 1, 2, 0\\n2, 0, 0, 0, 2, 3, 2, 4, 2, 7, 3, 4, 2, 2\\n0, 0, 2, 0, 0, 0, 0, 0, 0, 0, 0, 2, 3, 0\\n2, 1, 2, 4, 0, 1, 1, 0, 0, 2, 2, 1, 0, 0\\n0, 0, 0, 0, 3, 1, 5, 0, 0, 1, 6, 0, 0, 0\\n0, 0, 0, 3, 0, 0, 2, 2, 0, 0, 3, 0, 6, 0\\n0, 0, 1, 2, 0, 0, 0, 0, 4, 0, 0, 0, 4, 1\\n0, 2, 3, 0, 3, 0, 0, 2, 3, 0, 0, 3, 3, 0\\n0, 1, 0, 0, 0, 0, 1, 0, 0, 1, 1, 0, 0, 0\\n0, 0, 0, 1, 0, 1, 0, 0, 0, 0, 0, 0, 0, 1\\n0, 6, 0, 0, 0, 0, 1, 0, 0, 0, 0, 0, 0, 0\\n0, 1, 0, 0, 0, 0, 0, 1, 2, 0, 0, 0, 0, 0\\n0, 4, 0, 0, 0, 0, 0, 0, 0, 0, 0, 0, 0, 0\\n1, 0, 0, 0, 0, 0, 2, 0, 0, 0, 0, 0, 0, 1\\n0, 0, 0, 0, 0, 0, 0, 0, 2, 0, 0, 1, 0, 0\\n0, 0, 0, 0, 0, 0, 0, 0, 1, 0, 0, 0, 0, 0\\n0, 0, 0, 0, 0, 0, 0, 1, 0, 0, 0, 0, 0, 0\\n2, 0, 0, 0, 0, 0, 1, 1, 2, 0, 0, 0, 0, 0\\n0, 0, 0, 0, 0, 0, 0, 0, 0, 0, 0, 2, 0, 0\\n0, 4, 0, 0, 0, 0, 0, 0, 0, 0, 0, 0, 0, 2\\n0, 0, 0, 0, 0, 0, 0, 0, 0, 0, 0, 0, 0, 0\\n0, 0, 0, 0, 0, 0, 0, 0, 0, 0, 0, 0, 0, 0\\n0, 0, 0, 0, 0, 0, 0, 0, 0, 0, 0, 0, 0, 0\\n0, 0, 0]\"] ;\n",
      "16 -> 17 ;\n",
      "18 [label=\"gini = 0.96\\nsamples = 61\\nvalue = [0, 0, 3, 1, 2, 0, 4, 12, 1, 4, 5, 0, 2, 1\\n3, 2, 0, 0, 4, 0, 0, 6, 0, 0, 0, 1, 0, 1\\n0, 0, 0, 0, 0, 0, 0, 1, 0, 0, 0, 0, 0, 0\\n2, 0, 0, 0, 2, 7, 1, 0, 2, 0, 2, 0, 0, 0\\n0, 0, 0, 0, 0, 0, 0, 0, 0, 0, 0, 0, 0, 0\\n0, 1, 0, 0, 0, 0, 0, 0, 0, 1, 0, 0, 3, 0\\n2, 0, 0, 0, 0, 0, 3, 0, 0, 0, 0, 0, 0, 0\\n0, 0, 0, 0, 0, 0, 0, 0, 0, 0, 0, 0, 0, 0\\n0, 0, 0, 0, 0, 0, 0, 0, 3, 0, 0, 0, 0, 0\\n0, 0, 0, 0, 0, 0, 0, 0, 0, 1, 1, 0, 0, 0\\n0, 0, 0, 0, 0, 0, 0, 0, 0, 0, 0, 0, 0, 0\\n0, 0, 0, 0, 5, 0, 0, 0, 0, 0, 0, 0, 0, 0\\n0, 0, 0, 0, 0, 0, 1, 0, 0, 0, 0, 0, 0, 0\\n0, 0, 0, 0, 0, 1, 0, 0, 0, 0, 0, 0, 0, 0\\n0, 0, 0, 0, 0, 0, 0, 0, 0, 0, 0, 0, 0, 0\\n0, 0, 0, 0, 0, 0, 0, 0, 0, 0, 1, 0, 1, 0\\n0, 0, 0, 0, 0, 0, 0, 0, 0, 0, 0, 1, 0, 0\\n0, 0, 0, 0, 0, 0, 0, 0, 0, 0, 0, 0, 0, 0\\n0, 0, 0, 0, 0, 0, 0, 0, 0, 0, 0, 0, 0, 0\\n0, 0, 0, 0, 0, 0, 0, 0, 0, 0, 0, 3, 0, 0\\n0, 0, 0, 0, 0, 0, 0, 0, 0, 0, 0, 0, 0, 0\\n0, 0, 0, 0, 0, 0, 0, 0, 0, 0, 0, 0, 0, 0\\n0, 0, 0, 0, 0, 0, 0, 0, 0, 0, 0, 0, 2, 0\\n0, 0, 0, 0, 0, 0, 0, 0, 0, 0, 0, 0, 0, 0\\n0, 0, 0, 0, 0, 0, 0, 0, 0, 0, 0, 0, 0, 0\\n0, 0, 0, 0, 0, 0, 0, 0, 0, 0, 3, 0, 0, 0\\n0, 0, 0, 0, 0, 0, 0, 0, 0, 0, 0, 0, 0, 0\\n0, 0, 0, 0, 0, 0, 0, 0, 0, 0, 0, 0, 0, 0\\n0, 0, 0, 0, 0, 0, 0, 0, 0, 0, 0, 0, 0, 0\\n0, 0, 0, 0, 0, 0, 0, 0, 1, 0, 0, 0, 0, 0\\n0, 0, 0, 0, 0, 0, 0, 0, 0, 0, 0, 0, 0, 0\\n0, 0, 0, 0, 0, 0, 0, 0, 0, 0, 0, 0, 0, 0\\n0, 0, 0, 0, 0, 0, 0, 0, 0, 0, 0, 0, 0, 0\\n0, 0, 0, 0, 0, 0]\"] ;\n",
      "16 -> 18 ;\n",
      "19 [label=\"flight_duration <= 9.16\\ngini = 0.99\\nsamples = 13052\\nvalue = [174, 334, 322, 269, 268, 270, 302, 280, 267, 254\\n284, 258, 282, 276, 255, 246, 237, 224, 271, 272\\n270, 238, 231, 207, 216, 240, 229, 245, 216, 187\\n197, 181, 218, 204, 187, 173, 180, 229, 150, 179\\n160, 151, 216, 165, 163, 168, 154, 170, 154, 172\\n143, 138, 143, 144, 144, 132, 125, 117, 127, 106\\n112, 112, 92, 105, 114, 98, 108, 113, 87, 90, 129\\n93, 103, 90, 111, 73, 41, 89, 101, 84, 68, 79\\n85, 103, 72, 59, 74, 64, 48, 71, 73, 55, 65, 64\\n60, 62, 69, 60, 53, 55, 36, 54, 51, 34, 37, 70\\n50, 55, 57, 37, 54, 61, 39, 56, 39, 60, 54, 53\\n51, 43, 42, 39, 32, 38, 36, 35, 50, 43, 56, 38\\n43, 35, 25, 49, 40, 33, 21, 33, 14, 31, 26, 10\\n26, 36, 19, 26, 29, 21, 23, 32, 21, 29, 29, 25\\n28, 37, 25, 29, 19, 34, 25, 20, 27, 28, 17, 23\\n20, 19, 33, 35, 20, 23, 16, 27, 27, 25, 21, 19\\n21, 20, 14, 16, 17, 11, 13, 16, 18, 21, 17, 24\\n13, 15, 12, 14, 13, 25, 26, 8, 14, 22, 16, 18\\n14, 8, 7, 16, 12, 14, 22, 16, 14, 9, 15, 20\\n10, 13, 11, 17, 22, 6, 13, 18, 11, 13, 15, 33\\n10, 17, 18, 10, 11, 20, 13, 11, 20, 8, 12, 29\\n23, 17, 23, 35, 13, 16, 13, 25, 9, 11, 15, 23\\n10, 13, 7, 5, 15, 20, 5, 18, 14, 11, 5, 8, 15\\n16, 14, 20, 9, 9, 7, 13, 15, 5, 8, 10, 7, 10\\n12, 8, 5, 9, 7, 10, 12, 6, 11, 12, 8, 12, 9\\n5, 8, 14, 6, 12, 8, 8, 8, 11, 10, 8, 8, 7, 9\\n11, 6, 9, 8, 13, 7, 7, 6, 7, 2, 5, 7, 7, 10\\n7, 4, 6, 7, 8, 6, 10, 10, 8, 3, 6, 5, 5, 10\\n4, 5, 12, 0, 1, 1, 4, 5, 1, 10, 6, 7, 11, 3\\n0, 7, 3, 4, 3, 3, 3, 8, 9, 3, 1, 0, 3, 1\\n3, 2, 3, 0, 4, 1, 7, 2, 4, 5, 4, 4, 12, 1\\n0, 6, 1, 4, 4, 8, 3, 10, 5, 2, 10, 2, 5, 5\\n1, 6, 4, 3, 1, 0, 1, 4, 5, 2, 3, 3, 0, 10\\n3, 1, 4, 6, 4, 2, 4, 0, 1, 2, 0, 7, 5, 2\\n0, 0, 3, 0, 3, 0, 4, 3, 3, 3, 1, 0, 0, 2\\n0, 2, 0, 0, 0, 0, 1, 0, 0, 0, 0, 0, 0, 0\\n7, 1, 0, 0, 0, 0, 0, 0, 0, 0, 0, 0, 0, 0\\n0, 0, 0, 2, 0, 0, 0, 0, 0, 2, 0]\"] ;\n",
      "15 -> 19 ;\n",
      "20 [label=\"gini = 0.99\\nsamples = 13044\\nvalue = [174, 334, 322, 267, 268, 270, 302, 280, 267, 254\\n284, 258, 282, 271, 255, 246, 237, 224, 271, 272\\n270, 238, 231, 206, 216, 239, 229, 245, 216, 187\\n197, 181, 218, 204, 187, 173, 180, 229, 150, 179\\n160, 151, 216, 165, 163, 168, 154, 170, 154, 172\\n143, 138, 143, 144, 144, 132, 125, 117, 127, 106\\n112, 112, 92, 105, 114, 98, 108, 113, 87, 90, 129\\n93, 103, 90, 111, 73, 41, 89, 101, 84, 68, 79\\n85, 103, 72, 59, 74, 64, 48, 71, 73, 55, 65, 64\\n60, 62, 69, 60, 53, 55, 36, 54, 51, 34, 37, 70\\n50, 55, 57, 37, 54, 61, 39, 56, 39, 60, 54, 53\\n51, 43, 42, 39, 32, 38, 36, 35, 50, 42, 56, 38\\n43, 35, 25, 49, 40, 33, 21, 33, 14, 31, 26, 10\\n26, 36, 19, 26, 29, 21, 23, 32, 21, 29, 29, 25\\n28, 37, 25, 29, 19, 34, 25, 20, 27, 28, 17, 23\\n20, 19, 33, 35, 20, 23, 16, 27, 27, 25, 21, 19\\n21, 20, 14, 16, 17, 11, 13, 16, 18, 20, 17, 24\\n13, 15, 12, 14, 13, 25, 26, 8, 14, 22, 16, 18\\n14, 8, 7, 16, 12, 14, 22, 16, 14, 9, 15, 20\\n10, 13, 11, 17, 22, 6, 13, 18, 11, 13, 15, 33\\n10, 17, 18, 10, 11, 20, 13, 11, 20, 8, 12, 29\\n23, 17, 23, 35, 13, 16, 13, 25, 9, 11, 15, 23\\n10, 13, 7, 5, 15, 20, 5, 18, 14, 11, 5, 8, 15\\n16, 14, 20, 9, 9, 7, 13, 15, 5, 8, 10, 7, 10\\n12, 8, 5, 9, 7, 10, 12, 6, 11, 12, 8, 12, 9\\n5, 8, 14, 6, 12, 8, 8, 8, 11, 10, 8, 8, 7, 9\\n11, 6, 9, 8, 13, 7, 7, 6, 7, 2, 5, 7, 7, 10\\n7, 4, 6, 7, 8, 6, 10, 10, 8, 3, 6, 3, 5, 10\\n4, 5, 12, 0, 1, 1, 4, 5, 1, 10, 6, 7, 11, 3\\n0, 7, 3, 4, 3, 3, 3, 8, 9, 3, 1, 0, 3, 1\\n3, 2, 3, 0, 4, 1, 7, 2, 4, 5, 4, 4, 12, 1\\n0, 6, 1, 4, 4, 8, 3, 10, 5, 2, 10, 2, 5, 5\\n1, 6, 4, 3, 1, 0, 1, 4, 5, 2, 3, 3, 0, 10\\n3, 1, 4, 6, 4, 2, 4, 0, 1, 2, 0, 7, 5, 2\\n0, 0, 3, 0, 3, 0, 4, 3, 3, 3, 1, 0, 0, 2\\n0, 2, 0, 0, 0, 0, 1, 0, 0, 0, 0, 0, 0, 0\\n7, 1, 0, 0, 0, 0, 0, 0, 0, 0, 0, 0, 0, 0\\n0, 0, 0, 2, 0, 0, 0, 0, 0, 2, 0]\"] ;\n",
      "19 -> 20 ;\n",
      "21 [label=\"gini = 0.78\\nsamples = 8\\nvalue = [0, 0, 0, 2, 0, 0, 0, 0, 0, 0, 0, 0, 0, 5\\n0, 0, 0, 0, 0, 0, 0, 0, 0, 1, 0, 1, 0, 0\\n0, 0, 0, 0, 0, 0, 0, 0, 0, 0, 0, 0, 0, 0\\n0, 0, 0, 0, 0, 0, 0, 0, 0, 0, 0, 0, 0, 0\\n0, 0, 0, 0, 0, 0, 0, 0, 0, 0, 0, 0, 0, 0\\n0, 0, 0, 0, 0, 0, 0, 0, 0, 0, 0, 0, 0, 0\\n0, 0, 0, 0, 0, 0, 0, 0, 0, 0, 0, 0, 0, 0\\n0, 0, 0, 0, 0, 0, 0, 0, 0, 0, 0, 0, 0, 0\\n0, 0, 0, 0, 0, 0, 0, 0, 0, 0, 0, 0, 0, 0\\n0, 1, 0, 0, 0, 0, 0, 0, 0, 0, 0, 0, 0, 0\\n0, 0, 0, 0, 0, 0, 0, 0, 0, 0, 0, 0, 0, 0\\n0, 0, 0, 0, 0, 0, 0, 0, 0, 0, 0, 0, 0, 0\\n0, 0, 0, 0, 0, 0, 0, 0, 0, 0, 0, 0, 0, 0\\n0, 0, 0, 0, 0, 1, 0, 0, 0, 0, 0, 0, 0, 0\\n0, 0, 0, 0, 0, 0, 0, 0, 0, 0, 0, 0, 0, 0\\n0, 0, 0, 0, 0, 0, 0, 0, 0, 0, 0, 0, 0, 0\\n0, 0, 0, 0, 0, 0, 0, 0, 0, 0, 0, 0, 0, 0\\n0, 0, 0, 0, 0, 0, 0, 0, 0, 0, 0, 0, 0, 0\\n0, 0, 0, 0, 0, 0, 0, 0, 0, 0, 0, 0, 0, 0\\n0, 0, 0, 0, 0, 0, 0, 0, 0, 0, 0, 0, 0, 0\\n0, 0, 0, 0, 0, 0, 0, 0, 0, 0, 0, 0, 0, 0\\n0, 0, 0, 0, 0, 0, 0, 0, 0, 0, 0, 0, 0, 0\\n0, 0, 0, 0, 0, 0, 0, 0, 0, 0, 0, 0, 0, 0\\n0, 0, 0, 0, 0, 0, 2, 0, 0, 0, 0, 0, 0, 0\\n0, 0, 0, 0, 0, 0, 0, 0, 0, 0, 0, 0, 0, 0\\n0, 0, 0, 0, 0, 0, 0, 0, 0, 0, 0, 0, 0, 0\\n0, 0, 0, 0, 0, 0, 0, 0, 0, 0, 0, 0, 0, 0\\n0, 0, 0, 0, 0, 0, 0, 0, 0, 0, 0, 0, 0, 0\\n0, 0, 0, 0, 0, 0, 0, 0, 0, 0, 0, 0, 0, 0\\n0, 0, 0, 0, 0, 0, 0, 0, 0, 0, 0, 0, 0, 0\\n0, 0, 0, 0, 0, 0, 0, 0, 0, 0, 0, 0, 0, 0\\n0, 0, 0, 0, 0, 0, 0, 0, 0, 0, 0, 0, 0, 0\\n0, 0, 0, 0, 0, 0, 0, 0, 0, 0, 0, 0, 0, 0\\n0, 0, 0, 0, 0, 0]\"] ;\n",
      "19 -> 21 ;\n",
      "22 [label=\"length_of_stay <= 84.5\\ngini = 1.0\\nsamples = 8826\\nvalue = [48, 81, 59, 62, 82, 77, 104, 93, 100, 97, 113\\n104, 113, 91, 94, 106, 114, 98, 127, 102, 124, 105\\n132, 122, 94, 106, 108, 113, 81, 88, 94, 77, 85\\n107, 104, 106, 107, 97, 130, 96, 112, 106, 120, 75\\n106, 87, 112, 103, 90, 89, 98, 80, 92, 57, 96\\n86, 81, 70, 77, 77, 61, 76, 54, 72, 68, 56, 79\\n56, 60, 67, 57, 65, 48, 67, 76, 70, 69, 81, 58\\n74, 53, 52, 75, 64, 58, 51, 42, 59, 70, 51, 45\\n44, 38, 54, 27, 52, 58, 37, 35, 48, 48, 50, 54\\n36, 48, 51, 67, 47, 48, 50, 46, 35, 28, 44, 37\\n42, 30, 46, 42, 45, 34, 34, 32, 39, 31, 19, 43\\n23, 45, 44, 36, 30, 36, 31, 27, 39, 19, 40, 36\\n30, 29, 19, 21, 38, 20, 24, 18, 25, 20, 27, 37\\n30, 39, 19, 34, 35, 19, 14, 12, 29, 20, 25, 30\\n28, 29, 34, 17, 16, 41, 33, 28, 28, 27, 28, 43\\n41, 14, 25, 30, 30, 35, 23, 13, 14, 21, 25, 26\\n20, 28, 27, 24, 25, 23, 11, 19, 20, 16, 15, 33\\n26, 15, 21, 19, 27, 38, 13, 21, 20, 13, 12, 15\\n21, 19, 20, 18, 30, 28, 16, 16, 28, 20, 18, 11\\n12, 21, 19, 18, 20, 21, 19, 15, 26, 37, 17, 36\\n32, 17, 22, 29, 15, 19, 24, 18, 21, 17, 22, 19\\n15, 18, 15, 25, 14, 15, 12, 13, 16, 11, 15, 8\\n10, 19, 14, 14, 25, 14, 14, 14, 11, 15, 16, 8\\n9, 13, 4, 10, 3, 11, 15, 12, 9, 15, 16, 20, 10\\n4, 3, 6, 12, 23, 4, 10, 21, 9, 14, 9, 11, 25\\n14, 13, 19, 7, 7, 12, 16, 7, 10, 11, 1, 8, 6\\n3, 22, 9, 8, 4, 11, 20, 15, 11, 7, 9, 19, 9\\n19, 10, 10, 6, 6, 15, 4, 14, 7, 12, 9, 8, 15\\n11, 12, 15, 12, 12, 10, 4, 11, 12, 9, 7, 9, 8\\n11, 4, 6, 12, 5, 6, 11, 6, 6, 7, 13, 14, 5\\n11, 7, 4, 8, 11, 8, 6, 3, 12, 4, 13, 4, 8, 4\\n0, 4, 4, 2, 7, 2, 4, 6, 4, 5, 1, 16, 11, 10\\n6, 8, 4, 5, 6, 10, 6, 6, 6, 6, 5, 8, 13, 4\\n5, 16, 0, 6, 5, 1, 9, 3, 6, 3, 5, 1, 7, 2\\n6, 1, 4, 2, 5, 4, 11, 4, 2, 2, 8, 3, 6, 3\\n1, 0, 1, 0, 4, 6, 0, 0, 1, 0, 3, 0, 1, 0\\n0, 0, 0, 2, 1, 1, 0, 0, 0, 0, 1, 0, 0, 5\\n0, 1, 0, 0, 2, 1, 0, 1]\"] ;\n",
      "14 -> 22 ;\n",
      "23 [label=\"flight_duration <= 5.42\\ngini = 1.0\\nsamples = 8577\\nvalue = [46, 80, 53, 60, 76, 65, 97, 87, 96, 95, 108, 98\\n104, 84, 91, 106, 103, 87, 126, 97, 114, 103, 131\\n106, 92, 105, 102, 110, 77, 77, 94, 70, 79, 101\\n97, 106, 104, 96, 129, 95, 108, 106, 119, 72, 104\\n83, 108, 100, 84, 82, 95, 80, 92, 55, 93, 85, 80\\n68, 70, 73, 60, 76, 51, 72, 61, 51, 79, 54, 60\\n65, 54, 63, 48, 64, 73, 66, 68, 81, 56, 74, 53\\n51, 74, 63, 57, 48, 42, 59, 65, 51, 43, 43, 34\\n52, 27, 52, 58, 36, 34, 48, 44, 48, 53, 36, 46\\n49, 65, 47, 45, 50, 46, 35, 28, 44, 37, 41, 30\\n40, 40, 45, 34, 32, 30, 39, 31, 19, 40, 23, 44\\n43, 36, 30, 36, 31, 27, 39, 17, 40, 36, 29, 29\\n19, 21, 38, 20, 23, 18, 24, 20, 27, 37, 30, 37\\n19, 34, 35, 19, 13, 12, 29, 20, 24, 30, 28, 29\\n34, 17, 16, 41, 33, 28, 28, 27, 27, 43, 41, 12\\n24, 30, 30, 35, 23, 13, 14, 20, 25, 24, 19, 27\\n27, 24, 25, 22, 11, 19, 20, 16, 15, 33, 26, 15\\n21, 19, 27, 38, 13, 21, 17, 13, 12, 15, 21, 19\\n20, 18, 30, 28, 16, 16, 27, 20, 18, 11, 12, 21\\n19, 18, 20, 21, 19, 15, 26, 37, 17, 36, 32, 17\\n22, 29, 15, 19, 24, 18, 21, 17, 22, 16, 15, 18\\n15, 25, 14, 15, 11, 13, 16, 11, 15, 8, 10, 19\\n14, 14, 24, 13, 14, 14, 11, 15, 16, 8, 9, 13\\n4, 10, 3, 9, 15, 12, 9, 15, 15, 20, 10, 4, 3\\n6, 12, 23, 4, 10, 21, 7, 12, 9, 11, 25, 14, 13\\n19, 7, 7, 10, 16, 7, 10, 11, 1, 8, 6, 3, 22\\n9, 8, 4, 11, 20, 15, 11, 7, 9, 19, 9, 19, 10\\n10, 6, 6, 15, 4, 14, 7, 12, 6, 8, 15, 11, 12\\n15, 12, 12, 10, 4, 11, 12, 9, 7, 9, 8, 11, 4\\n6, 12, 5, 6, 11, 6, 6, 7, 12, 14, 5, 11, 7\\n4, 8, 11, 8, 6, 3, 12, 4, 13, 4, 8, 4, 0, 4\\n4, 2, 7, 2, 4, 6, 4, 5, 1, 16, 11, 10, 6, 8\\n4, 5, 6, 10, 6, 6, 6, 6, 5, 8, 13, 4, 5, 16\\n0, 6, 5, 1, 9, 3, 6, 3, 5, 1, 7, 2, 6, 1\\n4, 2, 5, 4, 11, 4, 2, 2, 8, 3, 6, 3, 1, 0\\n1, 0, 4, 6, 0, 0, 1, 0, 3, 0, 1, 0, 0, 0\\n0, 2, 1, 1, 0, 0, 0, 0, 1, 0, 0, 5, 0, 1\\n0, 0, 2, 1, 0, 1]\"] ;\n",
      "22 -> 23 ;\n",
      "24 [label=\"gini = 0.99\\nsamples = 1292\\nvalue = [8, 18, 7, 3, 15, 10, 16, 20, 25, 20, 11, 20\\n20, 22, 22, 36, 25, 26, 24, 16, 30, 31, 15, 23\\n7, 25, 18, 13, 12, 17, 19, 17, 14, 20, 14, 15\\n21, 15, 25, 23, 11, 21, 24, 11, 29, 18, 28, 17\\n10, 23, 25, 12, 10, 10, 13, 11, 12, 9, 10, 12\\n7, 8, 11, 9, 1, 3, 19, 10, 16, 18, 9, 7, 10\\n15, 10, 6, 18, 11, 7, 9, 3, 7, 14, 13, 3, 9\\n4, 6, 3, 6, 8, 5, 1, 7, 8, 4, 5, 4, 8, 7\\n8, 2, 6, 6, 18, 6, 10, 3, 4, 5, 7, 3, 5, 12\\n12, 2, 2, 5, 6, 13, 6, 1, 3, 3, 4, 5, 6, 5\\n5, 0, 2, 6, 1, 7, 1, 14, 2, 2, 9, 3, 3, 1\\n2, 3, 1, 1, 3, 1, 8, 2, 2, 5, 1, 0, 3, 4\\n1, 0, 0, 2, 2, 3, 2, 5, 6, 4, 5, 1, 3, 4\\n3, 1, 6, 0, 4, 5, 2, 2, 1, 1, 1, 1, 0, 0\\n2, 2, 1, 1, 1, 5, 3, 3, 1, 1, 4, 1, 0, 0\\n4, 3, 1, 1, 6, 5, 3, 5, 2, 4, 1, 2, 2, 3\\n2, 3, 1, 3, 3, 0, 3, 0, 4, 0, 1, 0, 2, 4\\n4, 3, 4, 1, 0, 4, 0, 1, 2, 3, 0, 3, 1, 2\\n3, 0, 5, 3, 1, 1, 6, 3, 4, 0, 1, 0, 0, 1\\n3, 1, 1, 1, 1, 0, 0, 0, 0, 9, 4, 1, 1, 1\\n3, 2, 0, 0, 0, 0, 2, 2, 5, 0, 2, 1, 0, 3\\n0, 1, 0, 0, 4, 0, 1, 2, 1, 4, 0, 2, 0, 1\\n2, 1, 0, 0, 1, 0, 0, 6, 2, 1, 0, 0, 0, 0\\n1, 4, 0, 0, 0, 0, 0, 3, 0, 2, 0, 2, 0, 6\\n0, 1, 1, 0, 0, 0, 4, 1, 2, 0, 0, 3, 4, 1\\n0, 2, 0, 0, 0, 1, 0, 0, 0, 0, 0, 0, 0, 0\\n0, 0, 0, 1, 1, 2, 1, 2, 2, 1, 3, 0, 1, 1\\n3, 4, 0, 0, 0, 0, 0, 0, 0, 0, 0, 1, 0, 2\\n2, 0, 0, 0, 2, 1, 0, 5, 0, 0, 0, 1, 1, 0\\n1, 0, 1, 1, 0, 0, 0, 1, 0, 0, 1, 0, 0, 3\\n0, 1, 2, 0, 0, 0, 0, 0, 3, 0, 0, 0, 0, 0\\n1, 1, 0, 0, 0, 0, 5, 0, 0, 0, 0, 0, 0, 0\\n0, 0, 0, 0, 1, 0, 0, 0, 0, 0, 0, 0, 0, 0\\n0, 0, 0, 0, 0, 0, 1, 0, 0, 0, 0, 1, 0, 0\\n0, 0, 0, 0]\"] ;\n",
      "23 -> 24 ;\n",
      "25 [label=\"gini = 1.0\\nsamples = 7285\\nvalue = [38, 62, 46, 57, 61, 55, 81, 67, 71, 75, 97, 78\\n84, 62, 69, 70, 78, 61, 102, 81, 84, 72, 116, 83\\n85, 80, 84, 97, 65, 60, 75, 53, 65, 81, 83, 91\\n83, 81, 104, 72, 97, 85, 95, 61, 75, 65, 80, 83\\n74, 59, 70, 68, 82, 45, 80, 74, 68, 59, 60, 61\\n53, 68, 40, 63, 60, 48, 60, 44, 44, 47, 45, 56\\n38, 49, 63, 60, 50, 70, 49, 65, 50, 44, 60, 50\\n54, 39, 38, 53, 62, 45, 35, 38, 33, 45, 19, 48\\n53, 32, 26, 41, 36, 46, 47, 30, 28, 43, 55, 44\\n41, 45, 39, 32, 23, 32, 25, 39, 28, 35, 34, 32\\n28, 31, 27, 36, 27, 14, 34, 18, 39, 43, 34, 24\\n35, 24, 26, 25, 15, 38, 27, 26, 26, 18, 19, 35\\n19, 22, 15, 23, 12, 25, 35, 25, 36, 19, 31, 31\\n18, 13, 12, 27, 18, 21, 28, 23, 23, 30, 12, 15\\n38, 29, 25, 27, 21, 27, 39, 36, 10, 22, 29, 29\\n34, 22, 13, 14, 18, 23, 23, 18, 26, 22, 21, 22\\n21, 10, 15, 19, 16, 15, 29, 23, 14, 20, 13, 22\\n35, 8, 19, 13, 12, 10, 13, 18, 17, 17, 17, 27\\n25, 16, 13, 27, 16, 18, 10, 12, 19, 15, 14, 17\\n17, 18, 15, 22, 37, 16, 34, 29, 17, 19, 28, 13\\n16, 24, 13, 18, 16, 21, 10, 12, 14, 15, 24, 14\\n15, 10, 10, 15, 10, 14, 7, 10, 19, 14, 14, 15\\n9, 13, 13, 10, 12, 14, 8, 9, 13, 4, 8, 1, 4\\n15, 10, 8, 15, 12, 20, 9, 4, 3, 2, 12, 22, 2\\n9, 17, 7, 10, 9, 10, 23, 13, 13, 19, 6, 7, 10\\n10, 5, 9, 11, 1, 8, 6, 2, 18, 9, 8, 4, 11\\n20, 12, 11, 5, 9, 17, 9, 13, 10, 9, 5, 6, 15\\n4, 10, 6, 10, 6, 8, 12, 7, 11, 15, 10, 12, 10\\n4, 10, 12, 9, 7, 9, 8, 11, 4, 6, 12, 5, 6\\n10, 5, 4, 6, 10, 12, 4, 8, 7, 3, 7, 8, 4, 6\\n3, 12, 4, 13, 4, 8, 4, 0, 3, 4, 0, 5, 2, 4\\n6, 2, 4, 1, 11, 11, 10, 6, 7, 3, 5, 5, 10, 5\\n5, 6, 6, 5, 7, 13, 4, 4, 16, 0, 3, 5, 0, 7\\n3, 6, 3, 5, 1, 4, 2, 6, 1, 4, 2, 4, 3, 11\\n4, 2, 2, 3, 3, 6, 3, 1, 0, 1, 0, 4, 6, 0\\n0, 0, 0, 3, 0, 1, 0, 0, 0, 0, 2, 1, 1, 0\\n0, 0, 0, 0, 0, 0, 5, 0, 0, 0, 0, 2, 1, 0\\n1]\"] ;\n",
      "23 -> 25 ;\n",
      "26 [label=\"length_of_stay <= 361.0\\ngini = 0.99\\nsamples = 249\\nvalue = [2, 1, 6, 2, 6, 12, 7, 6, 4, 2, 5, 6, 9, 7\\n3, 0, 11, 11, 1, 5, 10, 2, 1, 16, 2, 1, 6, 3\\n4, 11, 0, 7, 6, 6, 7, 0, 3, 1, 1, 1, 4, 0\\n1, 3, 2, 4, 4, 3, 6, 7, 3, 0, 0, 2, 3, 1\\n1, 2, 7, 4, 1, 0, 3, 0, 7, 5, 0, 2, 0, 2\\n3, 2, 0, 3, 3, 4, 1, 0, 2, 0, 0, 1, 1, 1\\n1, 3, 0, 0, 5, 0, 2, 1, 4, 2, 0, 0, 0, 1\\n1, 0, 4, 2, 1, 0, 2, 2, 2, 0, 3, 0, 0, 0\\n0, 0, 0, 1, 0, 6, 2, 0, 0, 2, 2, 0, 0, 0\\n3, 0, 1, 1, 0, 0, 0, 0, 0, 0, 2, 0, 0, 1\\n0, 0, 0, 0, 0, 1, 0, 1, 0, 0, 0, 0, 2, 0\\n0, 0, 0, 1, 0, 0, 0, 1, 0, 0, 0, 0, 0, 0\\n0, 0, 0, 0, 0, 1, 0, 0, 2, 1, 0, 0, 0, 0\\n0, 0, 1, 0, 2, 1, 1, 0, 0, 0, 1, 0, 0, 0\\n0, 0, 0, 0, 0, 0, 0, 0, 0, 0, 0, 3, 0, 0\\n0, 0, 0, 0, 0, 0, 0, 0, 0, 1, 0, 0, 0, 0\\n0, 0, 0, 0, 0, 0, 0, 0, 0, 0, 0, 0, 0, 0\\n0, 0, 0, 0, 0, 0, 0, 0, 3, 0, 0, 0, 0, 0\\n0, 1, 0, 0, 0, 0, 0, 0, 0, 0, 0, 1, 1, 0\\n0, 0, 0, 0, 0, 0, 0, 0, 0, 0, 2, 0, 0, 0\\n0, 1, 0, 0, 0, 0, 0, 0, 0, 0, 0, 0, 2, 2\\n0, 0, 0, 0, 0, 0, 0, 0, 2, 0, 0, 0, 0, 0\\n0, 0, 0, 0, 0, 0, 0, 0, 0, 0, 0, 0, 0, 0\\n0, 0, 0, 0, 0, 0, 0, 0, 0, 0, 0, 3, 0, 0\\n0, 0, 0, 0, 0, 0, 0, 0, 0, 0, 0, 0, 0, 0\\n0, 0, 0, 0, 0, 0, 0, 0, 0, 1, 0, 0, 0, 0\\n0, 0, 0, 0, 0, 0, 0, 0, 0, 0, 0, 0, 0, 0\\n0, 0, 0, 0, 0, 0, 0, 0, 0, 0, 0, 0, 0, 0\\n0, 0, 0, 0, 0, 0, 0, 0, 0, 0, 0, 0, 0, 0\\n0, 0, 0, 0, 0, 0, 0, 0, 0, 0, 0, 0, 0, 0\\n0, 0, 0, 0, 0, 0, 0, 0, 0, 0, 0, 0, 0, 0\\n0, 0, 0, 0, 0, 0, 0, 0, 0, 0, 0, 0, 0, 0\\n0, 0, 0, 0, 0, 0, 0, 0, 0, 0, 0, 0, 0, 0\\n0, 0, 0, 0, 0, 0]\"] ;\n",
      "22 -> 26 ;\n",
      "27 [label=\"gini = 0.99\\nsamples = 245\\nvalue = [2, 1, 6, 2, 6, 12, 7, 6, 4, 2, 5, 6, 9, 7\\n3, 0, 11, 11, 1, 5, 10, 2, 1, 16, 2, 1, 6, 3\\n4, 7, 0, 7, 4, 6, 7, 0, 3, 1, 1, 1, 4, 0\\n1, 3, 2, 4, 4, 3, 6, 7, 3, 0, 0, 0, 3, 1\\n1, 2, 7, 4, 1, 0, 3, 0, 7, 5, 0, 2, 0, 2\\n3, 2, 0, 3, 3, 4, 1, 0, 2, 0, 0, 1, 1, 1\\n1, 3, 0, 0, 5, 0, 2, 1, 4, 2, 0, 0, 0, 1\\n1, 0, 4, 2, 1, 0, 2, 2, 2, 0, 3, 0, 0, 0\\n0, 0, 0, 1, 0, 6, 2, 0, 0, 2, 2, 0, 0, 0\\n3, 0, 1, 1, 0, 0, 0, 0, 0, 0, 2, 0, 0, 1\\n0, 0, 0, 0, 0, 1, 0, 1, 0, 0, 0, 0, 2, 0\\n0, 0, 0, 1, 0, 0, 0, 1, 0, 0, 0, 0, 0, 0\\n0, 0, 0, 0, 0, 1, 0, 0, 2, 1, 0, 0, 0, 0\\n0, 0, 1, 0, 2, 1, 1, 0, 0, 0, 1, 0, 0, 0\\n0, 0, 0, 0, 0, 0, 0, 0, 0, 0, 0, 3, 0, 0\\n0, 0, 0, 0, 0, 0, 0, 0, 0, 1, 0, 0, 0, 0\\n0, 0, 0, 0, 0, 0, 0, 0, 0, 0, 0, 0, 0, 0\\n0, 0, 0, 0, 0, 0, 0, 0, 3, 0, 0, 0, 0, 0\\n0, 1, 0, 0, 0, 0, 0, 0, 0, 0, 0, 1, 1, 0\\n0, 0, 0, 0, 0, 0, 0, 0, 0, 0, 2, 0, 0, 0\\n0, 1, 0, 0, 0, 0, 0, 0, 0, 0, 0, 0, 2, 2\\n0, 0, 0, 0, 0, 0, 0, 0, 2, 0, 0, 0, 0, 0\\n0, 0, 0, 0, 0, 0, 0, 0, 0, 0, 0, 0, 0, 0\\n0, 0, 0, 0, 0, 0, 0, 0, 0, 0, 0, 3, 0, 0\\n0, 0, 0, 0, 0, 0, 0, 0, 0, 0, 0, 0, 0, 0\\n0, 0, 0, 0, 0, 0, 0, 0, 0, 1, 0, 0, 0, 0\\n0, 0, 0, 0, 0, 0, 0, 0, 0, 0, 0, 0, 0, 0\\n0, 0, 0, 0, 0, 0, 0, 0, 0, 0, 0, 0, 0, 0\\n0, 0, 0, 0, 0, 0, 0, 0, 0, 0, 0, 0, 0, 0\\n0, 0, 0, 0, 0, 0, 0, 0, 0, 0, 0, 0, 0, 0\\n0, 0, 0, 0, 0, 0, 0, 0, 0, 0, 0, 0, 0, 0\\n0, 0, 0, 0, 0, 0, 0, 0, 0, 0, 0, 0, 0, 0\\n0, 0, 0, 0, 0, 0, 0, 0, 0, 0, 0, 0, 0, 0\\n0, 0, 0, 0, 0, 0]\"] ;\n",
      "26 -> 27 ;\n",
      "28 [label=\"gini = 0.62\\nsamples = 4\\nvalue = [0, 0, 0, 0, 0, 0, 0, 0, 0, 0, 0, 0, 0, 0\\n0, 0, 0, 0, 0, 0, 0, 0, 0, 0, 0, 0, 0, 0\\n0, 4, 0, 0, 2, 0, 0, 0, 0, 0, 0, 0, 0, 0\\n0, 0, 0, 0, 0, 0, 0, 0, 0, 0, 0, 2, 0, 0\\n0, 0, 0, 0, 0, 0, 0, 0, 0, 0, 0, 0, 0, 0\\n0, 0, 0, 0, 0, 0, 0, 0, 0, 0, 0, 0, 0, 0\\n0, 0, 0, 0, 0, 0, 0, 0, 0, 0, 0, 0, 0, 0\\n0, 0, 0, 0, 0, 0, 0, 0, 0, 0, 0, 0, 0, 0\\n0, 0, 0, 0, 0, 0, 0, 0, 0, 0, 0, 0, 0, 0\\n0, 0, 0, 0, 0, 0, 0, 0, 0, 0, 0, 0, 0, 0\\n0, 0, 0, 0, 0, 0, 0, 0, 0, 0, 0, 0, 0, 0\\n0, 0, 0, 0, 0, 0, 0, 0, 0, 0, 0, 0, 0, 0\\n0, 0, 0, 0, 0, 0, 0, 0, 0, 0, 0, 0, 0, 0\\n0, 0, 0, 0, 0, 0, 0, 0, 0, 0, 0, 0, 0, 0\\n0, 0, 0, 0, 0, 0, 0, 0, 0, 0, 0, 0, 0, 0\\n0, 0, 0, 0, 0, 0, 0, 0, 0, 0, 0, 0, 0, 0\\n0, 0, 0, 0, 0, 0, 0, 0, 0, 0, 0, 0, 0, 0\\n0, 0, 0, 0, 0, 0, 0, 0, 0, 0, 0, 0, 0, 0\\n0, 0, 0, 0, 0, 0, 0, 0, 0, 0, 0, 0, 0, 0\\n0, 0, 0, 0, 0, 0, 0, 0, 0, 0, 0, 0, 0, 0\\n0, 0, 0, 0, 0, 0, 0, 0, 0, 0, 0, 0, 0, 0\\n0, 0, 0, 0, 0, 0, 0, 0, 0, 0, 0, 0, 0, 0\\n0, 0, 0, 0, 0, 0, 0, 0, 0, 0, 0, 0, 0, 0\\n0, 0, 0, 0, 0, 0, 0, 0, 0, 0, 0, 0, 0, 0\\n0, 0, 0, 0, 0, 0, 0, 0, 0, 0, 0, 0, 0, 0\\n0, 0, 0, 0, 0, 0, 0, 0, 0, 0, 0, 0, 0, 0\\n0, 0, 0, 0, 0, 0, 0, 0, 0, 0, 0, 0, 0, 0\\n0, 0, 0, 0, 0, 0, 0, 0, 0, 0, 0, 0, 0, 0\\n0, 0, 0, 0, 0, 0, 0, 0, 0, 0, 0, 0, 0, 0\\n0, 0, 0, 0, 0, 0, 0, 0, 0, 0, 0, 0, 0, 0\\n0, 0, 0, 0, 0, 0, 0, 0, 0, 0, 0, 0, 0, 0\\n0, 0, 0, 0, 0, 0, 0, 0, 0, 0, 0, 0, 0, 0\\n0, 0, 0, 0, 0, 0, 0, 0, 0, 0, 0, 0, 0, 0\\n0, 0, 0, 0, 0, 0]\"] ;\n",
      "26 -> 28 ;\n",
      "}\n"
     ]
    }
   ],
   "source": [
    "print(export_graphviz(tree, out_file=None, feature_names=input_features4, rounded=True, precision=2))"
   ]
  },
  {
   "cell_type": "code",
   "execution_count": 42,
   "metadata": {},
   "outputs": [],
   "source": [
    "output_feature = 'num_passengers'\n",
    "exclude_features = ['booking_origin','sales_channel','trip_type','flight_day','route']\n",
    "# get input features\n",
    "input_features = [item for item in df.columns if item not in [output_feature] + exclude_features]\n",
    "\n",
    "# split the datasets\n",
    "df_train, df_test = train_test_split(df[[output_feature]+input_features].copy(), test_size=0.2, random_state=8001)"
   ]
  },
  {
   "cell_type": "code",
   "execution_count": 45,
   "metadata": {},
   "outputs": [],
   "source": [
    "rfc_param_dist = {'n_estimators': [20,50,10,200],\n",
    "                  'max_depth': [2,4,8,None],\n",
    "                  'max_features': ['auto','sqrt'],\n",
    "                  'bootstrap': [True, False],\n",
    "                  'criterion': [\"gini\", \"entropy\"]}\n",
    "\n",
    "# random forest model\n",
    "rfc = RandomForestClassifier()"
   ]
  },
  {
   "cell_type": "code",
   "execution_count": null,
   "metadata": {},
   "outputs": [
    {
     "name": "stdout",
     "output_type": "stream",
     "text": [
      "Fitting 5 folds for each of 128 candidates, totalling 640 fits\n"
     ]
    }
   ],
   "source": [
    "# grid search\n",
    "rfc_search_grid = GridSearchCV(estimator=rfc, param_grid=rfc_param_dist, cv=5, verbose=2, n_jobs=-1)\n",
    "\n",
    "# start timer\n",
    "start = time()\n",
    "\n",
    "# fit the grid search model\n",
    "rfc_search_grid.fit(df_train[input_features], df_train[output_feature].ravel())\n",
    "\n",
    "print('GridSearchCV took {0:.2f} seconds'.format((time() - start)))"
   ]
  },
  {
   "cell_type": "code",
   "execution_count": null,
   "metadata": {},
   "outputs": [],
   "source": [
    "rfc_search_grid.best_params_"
   ]
  },
  {
   "cell_type": "code",
   "execution_count": null,
   "metadata": {},
   "outputs": [],
   "source": [
    "rfc_search_grid.best_score_"
   ]
  },
  {
   "cell_type": "code",
   "execution_count": null,
   "metadata": {},
   "outputs": [],
   "source": [
    "# random search\n",
    "rfc_search_random = RandomizedSearchCV(estimator=rfc, param_distributions=rfc_param_dist, n_iter=20, cv=5, verbose=2, n_jobs=-1, random_state=8001)\n",
    "\n",
    "# start timer\n",
    "start = time()\n",
    "\n",
    "# fit the grid search model\n",
    "rfc_search_random.fit(df_train[input_features], df_train[output_feature].ravel())\n",
    "\n",
    "print('RadmomSearchCV took {0:.2f} seconds'.format((time() - start)))"
   ]
  },
  {
   "cell_type": "code",
   "execution_count": null,
   "metadata": {},
   "outputs": [],
   "source": [
    "rfc_search_random.best_params_"
   ]
  },
  {
   "cell_type": "code",
   "execution_count": null,
   "metadata": {},
   "outputs": [],
   "source": [
    "rfc_search_random.best_score_"
   ]
  },
  {
   "cell_type": "code",
   "execution_count": null,
   "metadata": {},
   "outputs": [],
   "source": [
    "grid_model = rfc_search_grid.best_estimator_\n",
    "grid_y_pred = grid_model.predict(X=df_test[input_features])\n",
    "grid_acc = accuracy_score(y_pred=grid_y_pred, y_true=df_test[output_feature])\n",
    "\n",
    "print('Grid RF: {0:.3}'.format(grid_acc))\n",
    "print(classification_report(y_true=df_test[output_feature], y_pred=grid_y_pred))"
   ]
  },
  {
   "cell_type": "code",
   "execution_count": null,
   "metadata": {},
   "outputs": [],
   "source": [
    "rand_model = rfc_search_random.best_estimator_\n",
    "rand_y_pred = rand_model.predict(X=df_test[input_features])\n",
    "rand_acc = accuracy_score(y_pred=rand_y_pred, y_true=df_test[output_feature])\n",
    "\n",
    "print('Random RF: {0:.3}'.format(rand_acc))\n",
    "print(classification_report(y_true=df_test[output_feature], y_pred=rand_y_pred))"
   ]
  },
  {
   "cell_type": "markdown",
   "metadata": {},
   "source": []
  }
 ],
 "metadata": {
  "kernelspec": {
   "display_name": "Python 3 (ipykernel)",
   "language": "python",
   "name": "python3"
  },
  "language_info": {
   "codemirror_mode": {
    "name": "ipython",
    "version": 3
   },
   "file_extension": ".py",
   "mimetype": "text/x-python",
   "name": "python",
   "nbconvert_exporter": "python",
   "pygments_lexer": "ipython3",
   "version": "3.10.9"
  },
  "vscode": {
   "interpreter": {
    "hash": "4f7924c4c56b083e0e50eadfe7ef592a7a8ef70df33a0047f82280e6be1afe15"
   }
  }
 },
 "nbformat": 4,
 "nbformat_minor": 2
}
